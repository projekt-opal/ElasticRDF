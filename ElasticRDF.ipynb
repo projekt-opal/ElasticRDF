{
 "cells": [
  {
   "cell_type": "code",
   "execution_count": 1,
   "metadata": {},
   "outputs": [],
   "source": [
    "from elasticsearch import Elasticsearch\n",
    "from elasticsearch import helpers\n",
    "import reader\n",
    "# Connect to the elastic cluster\n",
    "es=Elasticsearch([{'host':'localhost','port':9200}])"
   ]
  },
  {
   "cell_type": "code",
   "execution_count": 3,
   "metadata": {},
   "outputs": [
    {
     "data": {
      "text/plain": [
       "{'acknowledged': True, 'shards_acknowledged': True, 'index': 'bank'}"
      ]
     },
     "execution_count": 3,
     "metadata": {},
     "output_type": "execute_result"
    }
   ],
   "source": [
    "# Get all indices   =>   es.indices.get_alias(\"*\")\n",
    "# Delete an index   =>   es.indices.delete(index='.monitoring-es-7-2019.06.21')\n",
    "# Create an index   =>   es.indices.create(index='opal_dataset')\n",
    "es.indices.create(index='bank')"
   ]
  },
  {
   "cell_type": "code",
   "execution_count": 4,
   "metadata": {},
   "outputs": [],
   "source": [
    "url='https://raw.githubusercontent.com/elastic/elasticsearch/master/docs/src/test/resources/accounts.json'"
   ]
  },
  {
   "cell_type": "code",
   "execution_count": 5,
   "metadata": {},
   "outputs": [],
   "source": [
    "gen_data=reader.get_sample_data(url,index_name='bank')"
   ]
  },
  {
   "cell_type": "code",
   "execution_count": 6,
   "metadata": {},
   "outputs": [
    {
     "name": "stdout",
     "output_type": "stream",
     "text": [
      "{'account_number': 1, 'balance': 39225, 'firstname': 'Amber', 'lastname': 'Duke', 'age': 32, 'gender': 'M', 'address': '880 Holmes Lane', 'employer': 'Pyrami', 'email': 'amberduke@pyrami.com', 'city': 'Brogan', 'state': 'IL'}\n"
     ]
    }
   ],
   "source": [
    "for i in gen_data:\n",
    "    print(i['_source'])\n",
    "    break"
   ]
  },
  {
   "cell_type": "code",
   "execution_count": 7,
   "metadata": {},
   "outputs": [
    {
     "data": {
      "text/plain": [
       "(999, [])"
      ]
     },
     "execution_count": 7,
     "metadata": {},
     "output_type": "execute_result"
    }
   ],
   "source": [
    "helpers.bulk(es, gen_data)"
   ]
  },
  {
   "cell_type": "code",
   "execution_count": 8,
   "metadata": {},
   "outputs": [
    {
     "data": {
      "text/plain": [
       "{'count': 999,\n",
       " '_shards': {'total': 1, 'successful': 1, 'skipped': 0, 'failed': 0}}"
      ]
     },
     "execution_count": 8,
     "metadata": {},
     "output_type": "execute_result"
    }
   ],
   "source": [
    "# Number of documents indexed\n",
    "es.count(index='bank')"
   ]
  },
  {
   "cell_type": "markdown",
   "metadata": {},
   "source": [
    "## Introducting the Query Language"
   ]
  },
  {
   "cell_type": "code",
   "execution_count": 6,
   "metadata": {},
   "outputs": [],
   "source": [
    "def elastic_query(q):\n",
    "    hits=es.search(index='bank',body=q)['hits']['hits']\n",
    "    return [i['_source'] for i in hits]"
   ]
  },
  {
   "cell_type": "code",
   "execution_count": 7,
   "metadata": {},
   "outputs": [
    {
     "data": {
      "text/plain": [
       "[{'account_number': 6,\n",
       "  'balance': 5686,\n",
       "  'firstname': 'Hattie',\n",
       "  'lastname': 'Bond',\n",
       "  'age': 36,\n",
       "  'gender': 'M',\n",
       "  'address': '671 Bristol Street',\n",
       "  'employer': 'Netagy',\n",
       "  'email': 'hattiebond@netagy.com',\n",
       "  'city': 'Dante',\n",
       "  'state': 'TN'}]"
      ]
     },
     "execution_count": 7,
     "metadata": {},
     "output_type": "execute_result"
    }
   ],
   "source": [
    "# Get first  document\n",
    "q={\"query\": { \"match_all\": {} },\n",
    "   \"size\": 1}\n",
    "elastic_query(q)"
   ]
  },
  {
   "cell_type": "code",
   "execution_count": 8,
   "metadata": {},
   "outputs": [
    {
     "data": {
      "text/plain": [
       "[{'account_number': 56,\n",
       "  'balance': 14992,\n",
       "  'firstname': 'Josie',\n",
       "  'lastname': 'Nelson',\n",
       "  'age': 32,\n",
       "  'gender': 'M',\n",
       "  'address': '857 Tabor Court',\n",
       "  'employer': 'Emtrac',\n",
       "  'email': 'josienelson@emtrac.com',\n",
       "  'city': 'Sunnyside',\n",
       "  'state': 'UT'}]"
      ]
     },
     "execution_count": 8,
     "metadata": {},
     "output_type": "execute_result"
    }
   ],
   "source": [
    "# Get 11th  document\n",
    "q={\"query\": { \"match_all\": {} },\n",
    "   \"from\": 10,\n",
    "   \"size\": 1}\n",
    "elastic_query(q)"
   ]
  },
  {
   "cell_type": "code",
   "execution_count": 30,
   "metadata": {},
   "outputs": [
    {
     "ename": "RequestError",
     "evalue": "RequestError(400, 'search_phase_execution_exception', 'No mapping found for [account_number] in order to sort on')",
     "output_type": "error",
     "traceback": [
      "\u001b[0;31m---------------------------------------------------------------------------\u001b[0m",
      "\u001b[0;31mRequestError\u001b[0m                              Traceback (most recent call last)",
      "\u001b[0;32m<ipython-input-30-d7183fa09acf>\u001b[0m in \u001b[0;36m<module>\u001b[0;34m\u001b[0m\n\u001b[1;32m      6\u001b[0m        \"size\":\"2\"}\n\u001b[1;32m      7\u001b[0m \u001b[0;34m\u001b[0m\u001b[0m\n\u001b[0;32m----> 8\u001b[0;31m \u001b[0melastic_query\u001b[0m\u001b[0;34m(\u001b[0m\u001b[0mquery\u001b[0m\u001b[0;34m)\u001b[0m\u001b[0;34m\u001b[0m\u001b[0;34m\u001b[0m\u001b[0m\n\u001b[0m",
      "\u001b[0;32m<ipython-input-6-d4c9df6c5333>\u001b[0m in \u001b[0;36melastic_query\u001b[0;34m(q)\u001b[0m\n\u001b[1;32m      1\u001b[0m \u001b[0;32mdef\u001b[0m \u001b[0melastic_query\u001b[0m\u001b[0;34m(\u001b[0m\u001b[0mq\u001b[0m\u001b[0;34m)\u001b[0m\u001b[0;34m:\u001b[0m\u001b[0;34m\u001b[0m\u001b[0;34m\u001b[0m\u001b[0m\n\u001b[0;32m----> 2\u001b[0;31m     \u001b[0mhits\u001b[0m\u001b[0;34m=\u001b[0m\u001b[0mes\u001b[0m\u001b[0;34m.\u001b[0m\u001b[0msearch\u001b[0m\u001b[0;34m(\u001b[0m\u001b[0mindex\u001b[0m\u001b[0;34m=\u001b[0m\u001b[0;34m'bank'\u001b[0m\u001b[0;34m,\u001b[0m\u001b[0mbody\u001b[0m\u001b[0;34m=\u001b[0m\u001b[0mq\u001b[0m\u001b[0;34m)\u001b[0m\u001b[0;34m[\u001b[0m\u001b[0;34m'hits'\u001b[0m\u001b[0;34m]\u001b[0m\u001b[0;34m[\u001b[0m\u001b[0;34m'hits'\u001b[0m\u001b[0;34m]\u001b[0m\u001b[0;34m\u001b[0m\u001b[0;34m\u001b[0m\u001b[0m\n\u001b[0m\u001b[1;32m      3\u001b[0m     \u001b[0;32mreturn\u001b[0m \u001b[0;34m[\u001b[0m\u001b[0mi\u001b[0m\u001b[0;34m[\u001b[0m\u001b[0;34m'_source'\u001b[0m\u001b[0;34m]\u001b[0m \u001b[0;32mfor\u001b[0m \u001b[0mi\u001b[0m \u001b[0;32min\u001b[0m \u001b[0mhits\u001b[0m\u001b[0;34m]\u001b[0m\u001b[0;34m\u001b[0m\u001b[0;34m\u001b[0m\u001b[0m\n",
      "\u001b[0;32m~/anaconda3/envs/elastic/lib/python3.7/site-packages/elasticsearch/client/utils.py\u001b[0m in \u001b[0;36m_wrapped\u001b[0;34m(*args, **kwargs)\u001b[0m\n\u001b[1;32m     82\u001b[0m                 \u001b[0;32mif\u001b[0m \u001b[0mp\u001b[0m \u001b[0;32min\u001b[0m \u001b[0mkwargs\u001b[0m\u001b[0;34m:\u001b[0m\u001b[0;34m\u001b[0m\u001b[0;34m\u001b[0m\u001b[0m\n\u001b[1;32m     83\u001b[0m                     \u001b[0mparams\u001b[0m\u001b[0;34m[\u001b[0m\u001b[0mp\u001b[0m\u001b[0;34m]\u001b[0m \u001b[0;34m=\u001b[0m \u001b[0mkwargs\u001b[0m\u001b[0;34m.\u001b[0m\u001b[0mpop\u001b[0m\u001b[0;34m(\u001b[0m\u001b[0mp\u001b[0m\u001b[0;34m)\u001b[0m\u001b[0;34m\u001b[0m\u001b[0;34m\u001b[0m\u001b[0m\n\u001b[0;32m---> 84\u001b[0;31m             \u001b[0;32mreturn\u001b[0m \u001b[0mfunc\u001b[0m\u001b[0;34m(\u001b[0m\u001b[0;34m*\u001b[0m\u001b[0margs\u001b[0m\u001b[0;34m,\u001b[0m \u001b[0mparams\u001b[0m\u001b[0;34m=\u001b[0m\u001b[0mparams\u001b[0m\u001b[0;34m,\u001b[0m \u001b[0;34m**\u001b[0m\u001b[0mkwargs\u001b[0m\u001b[0;34m)\u001b[0m\u001b[0;34m\u001b[0m\u001b[0;34m\u001b[0m\u001b[0m\n\u001b[0m\u001b[1;32m     85\u001b[0m \u001b[0;34m\u001b[0m\u001b[0m\n\u001b[1;32m     86\u001b[0m         \u001b[0;32mreturn\u001b[0m \u001b[0m_wrapped\u001b[0m\u001b[0;34m\u001b[0m\u001b[0;34m\u001b[0m\u001b[0m\n",
      "\u001b[0;32m~/anaconda3/envs/elastic/lib/python3.7/site-packages/elasticsearch/client/__init__.py\u001b[0m in \u001b[0;36msearch\u001b[0;34m(self, index, body, params)\u001b[0m\n\u001b[1;32m    809\u001b[0m             \u001b[0mindex\u001b[0m \u001b[0;34m=\u001b[0m \u001b[0;34m\"_all\"\u001b[0m\u001b[0;34m\u001b[0m\u001b[0;34m\u001b[0m\u001b[0m\n\u001b[1;32m    810\u001b[0m         return self.transport.perform_request(\n\u001b[0;32m--> 811\u001b[0;31m             \u001b[0;34m\"GET\"\u001b[0m\u001b[0;34m,\u001b[0m \u001b[0m_make_path\u001b[0m\u001b[0;34m(\u001b[0m\u001b[0mindex\u001b[0m\u001b[0;34m,\u001b[0m \u001b[0;34m\"_search\"\u001b[0m\u001b[0;34m)\u001b[0m\u001b[0;34m,\u001b[0m \u001b[0mparams\u001b[0m\u001b[0;34m=\u001b[0m\u001b[0mparams\u001b[0m\u001b[0;34m,\u001b[0m \u001b[0mbody\u001b[0m\u001b[0;34m=\u001b[0m\u001b[0mbody\u001b[0m\u001b[0;34m\u001b[0m\u001b[0;34m\u001b[0m\u001b[0m\n\u001b[0m\u001b[1;32m    812\u001b[0m         )\n\u001b[1;32m    813\u001b[0m \u001b[0;34m\u001b[0m\u001b[0m\n",
      "\u001b[0;32m~/anaconda3/envs/elastic/lib/python3.7/site-packages/elasticsearch/transport.py\u001b[0m in \u001b[0;36mperform_request\u001b[0;34m(self, method, url, headers, params, body)\u001b[0m\n\u001b[1;32m    316\u001b[0m                 \u001b[0mdelay\u001b[0m \u001b[0;34m=\u001b[0m \u001b[0;36m2\u001b[0m\u001b[0;34m**\u001b[0m\u001b[0mattempt\u001b[0m \u001b[0;34m-\u001b[0m \u001b[0;36m1\u001b[0m\u001b[0;34m\u001b[0m\u001b[0;34m\u001b[0m\u001b[0m\n\u001b[1;32m    317\u001b[0m                 \u001b[0mtime\u001b[0m\u001b[0;34m.\u001b[0m\u001b[0msleep\u001b[0m\u001b[0;34m(\u001b[0m\u001b[0mdelay\u001b[0m\u001b[0;34m)\u001b[0m\u001b[0;34m\u001b[0m\u001b[0;34m\u001b[0m\u001b[0m\n\u001b[0;32m--> 318\u001b[0;31m                 \u001b[0mstatus\u001b[0m\u001b[0;34m,\u001b[0m \u001b[0mheaders_response\u001b[0m\u001b[0;34m,\u001b[0m \u001b[0mdata\u001b[0m \u001b[0;34m=\u001b[0m \u001b[0mconnection\u001b[0m\u001b[0;34m.\u001b[0m\u001b[0mperform_request\u001b[0m\u001b[0;34m(\u001b[0m\u001b[0mmethod\u001b[0m\u001b[0;34m,\u001b[0m \u001b[0murl\u001b[0m\u001b[0;34m,\u001b[0m \u001b[0mparams\u001b[0m\u001b[0;34m,\u001b[0m \u001b[0mbody\u001b[0m\u001b[0;34m,\u001b[0m \u001b[0mheaders\u001b[0m\u001b[0;34m=\u001b[0m\u001b[0mheaders\u001b[0m\u001b[0;34m,\u001b[0m \u001b[0mignore\u001b[0m\u001b[0;34m=\u001b[0m\u001b[0mignore\u001b[0m\u001b[0;34m,\u001b[0m \u001b[0mtimeout\u001b[0m\u001b[0;34m=\u001b[0m\u001b[0mtimeout\u001b[0m\u001b[0;34m)\u001b[0m\u001b[0;34m\u001b[0m\u001b[0;34m\u001b[0m\u001b[0m\n\u001b[0m\u001b[1;32m    319\u001b[0m \u001b[0;34m\u001b[0m\u001b[0m\n\u001b[1;32m    320\u001b[0m             \u001b[0;32mexcept\u001b[0m \u001b[0mTransportError\u001b[0m \u001b[0;32mas\u001b[0m \u001b[0me\u001b[0m\u001b[0;34m:\u001b[0m\u001b[0;34m\u001b[0m\u001b[0;34m\u001b[0m\u001b[0m\n",
      "\u001b[0;32m~/anaconda3/envs/elastic/lib/python3.7/site-packages/elasticsearch/connection/http_urllib3.py\u001b[0m in \u001b[0;36mperform_request\u001b[0;34m(self, method, url, params, body, timeout, ignore, headers)\u001b[0m\n\u001b[1;32m    237\u001b[0m                 \u001b[0mmethod\u001b[0m\u001b[0;34m,\u001b[0m \u001b[0mfull_url\u001b[0m\u001b[0;34m,\u001b[0m \u001b[0murl\u001b[0m\u001b[0;34m,\u001b[0m \u001b[0mbody\u001b[0m\u001b[0;34m,\u001b[0m \u001b[0mduration\u001b[0m\u001b[0;34m,\u001b[0m \u001b[0mresponse\u001b[0m\u001b[0;34m.\u001b[0m\u001b[0mstatus\u001b[0m\u001b[0;34m,\u001b[0m \u001b[0mraw_data\u001b[0m\u001b[0;34m\u001b[0m\u001b[0;34m\u001b[0m\u001b[0m\n\u001b[1;32m    238\u001b[0m             )\n\u001b[0;32m--> 239\u001b[0;31m             \u001b[0mself\u001b[0m\u001b[0;34m.\u001b[0m\u001b[0m_raise_error\u001b[0m\u001b[0;34m(\u001b[0m\u001b[0mresponse\u001b[0m\u001b[0;34m.\u001b[0m\u001b[0mstatus\u001b[0m\u001b[0;34m,\u001b[0m \u001b[0mraw_data\u001b[0m\u001b[0;34m)\u001b[0m\u001b[0;34m\u001b[0m\u001b[0;34m\u001b[0m\u001b[0m\n\u001b[0m\u001b[1;32m    240\u001b[0m \u001b[0;34m\u001b[0m\u001b[0m\n\u001b[1;32m    241\u001b[0m         self.log_request_success(\n",
      "\u001b[0;32m~/anaconda3/envs/elastic/lib/python3.7/site-packages/elasticsearch/connection/base.py\u001b[0m in \u001b[0;36m_raise_error\u001b[0;34m(self, status_code, raw_data)\u001b[0m\n\u001b[1;32m    129\u001b[0m             \u001b[0mlogger\u001b[0m\u001b[0;34m.\u001b[0m\u001b[0mwarning\u001b[0m\u001b[0;34m(\u001b[0m\u001b[0;34m'Undecodable raw error response from server: %s'\u001b[0m\u001b[0;34m,\u001b[0m \u001b[0merr\u001b[0m\u001b[0;34m)\u001b[0m\u001b[0;34m\u001b[0m\u001b[0;34m\u001b[0m\u001b[0m\n\u001b[1;32m    130\u001b[0m \u001b[0;34m\u001b[0m\u001b[0m\n\u001b[0;32m--> 131\u001b[0;31m         \u001b[0;32mraise\u001b[0m \u001b[0mHTTP_EXCEPTIONS\u001b[0m\u001b[0;34m.\u001b[0m\u001b[0mget\u001b[0m\u001b[0;34m(\u001b[0m\u001b[0mstatus_code\u001b[0m\u001b[0;34m,\u001b[0m \u001b[0mTransportError\u001b[0m\u001b[0;34m)\u001b[0m\u001b[0;34m(\u001b[0m\u001b[0mstatus_code\u001b[0m\u001b[0;34m,\u001b[0m \u001b[0merror_message\u001b[0m\u001b[0;34m,\u001b[0m \u001b[0madditional_info\u001b[0m\u001b[0;34m)\u001b[0m\u001b[0;34m\u001b[0m\u001b[0;34m\u001b[0m\u001b[0m\n\u001b[0m\u001b[1;32m    132\u001b[0m \u001b[0;34m\u001b[0m\u001b[0m\n\u001b[1;32m    133\u001b[0m \u001b[0;34m\u001b[0m\u001b[0m\n",
      "\u001b[0;31mRequestError\u001b[0m: RequestError(400, 'search_phase_execution_exception', 'No mapping found for [account_number] in order to sort on')"
     ]
    }
   ],
   "source": [
    "order='asc' # ascending ordered\n",
    "field=\"account_number\"\n",
    "query={\"query\":\n",
    "       {\"match_all\":{}},\n",
    "       \"sort\":[{field:order}],\n",
    "       \"size\":\"2\"}\n",
    "\n",
    "elastic_query(query)"
   ]
  },
  {
   "cell_type": "code",
   "execution_count": 10,
   "metadata": {},
   "outputs": [
    {
     "data": {
      "text/plain": [
       "[{'account_number': 20,\n",
       "  'balance': 16418,\n",
       "  'firstname': 'Elinor',\n",
       "  'lastname': 'Ratliff',\n",
       "  'age': 36,\n",
       "  'gender': 'M',\n",
       "  'address': '282 Kings Place',\n",
       "  'employer': 'Scentric',\n",
       "  'email': 'elinorratliff@scentric.com',\n",
       "  'city': 'Ribera',\n",
       "  'state': 'WA'}]"
      ]
     },
     "execution_count": 10,
     "metadata": {},
     "output_type": "execute_result"
    }
   ],
   "source": [
    "# Get documents whose account_number fields satisfy such query. \n",
    "# \"Expectedly\" only one document returned\n",
    "\n",
    "q={\"query\": { \"match\": {\"account_number\":20} }}\n",
    "elastic_query(q)"
   ]
  },
  {
   "cell_type": "code",
   "execution_count": 11,
   "metadata": {},
   "outputs": [
    {
     "data": {
      "text/plain": [
       "[{'account_number': 970,\n",
       "  'balance': 19648,\n",
       "  'firstname': 'Forbes',\n",
       "  'lastname': 'Wallace',\n",
       "  'age': 28,\n",
       "  'gender': 'M',\n",
       "  'address': '990 Mill Road',\n",
       "  'employer': 'Pheast',\n",
       "  'email': 'forbeswallace@pheast.com',\n",
       "  'city': 'Lopezo',\n",
       "  'state': 'AK'},\n",
       " {'account_number': 136,\n",
       "  'balance': 45801,\n",
       "  'firstname': 'Winnie',\n",
       "  'lastname': 'Holland',\n",
       "  'age': 38,\n",
       "  'gender': 'M',\n",
       "  'address': '198 Mill Lane',\n",
       "  'employer': 'Neteria',\n",
       "  'email': 'winnieholland@neteria.com',\n",
       "  'city': 'Urie',\n",
       "  'state': 'IL'},\n",
       " {'account_number': 345,\n",
       "  'balance': 9812,\n",
       "  'firstname': 'Parker',\n",
       "  'lastname': 'Hines',\n",
       "  'age': 38,\n",
       "  'gender': 'M',\n",
       "  'address': '715 Mill Avenue',\n",
       "  'employer': 'Baluba',\n",
       "  'email': 'parkerhines@baluba.com',\n",
       "  'city': 'Blackgum',\n",
       "  'state': 'KY'},\n",
       " {'account_number': 472,\n",
       "  'balance': 25571,\n",
       "  'firstname': 'Lee',\n",
       "  'lastname': 'Long',\n",
       "  'age': 32,\n",
       "  'gender': 'F',\n",
       "  'address': '288 Mill Street',\n",
       "  'employer': 'Comverges',\n",
       "  'email': 'leelong@comverges.com',\n",
       "  'city': 'Movico',\n",
       "  'state': 'MT'}]"
      ]
     },
     "execution_count": 11,
     "metadata": {},
     "output_type": "execute_result"
    }
   ],
   "source": [
    "# Get document whose address field satisfies such query.\n",
    "q={\"query\": { \"match\": { \"address\": \"mill\" }}}\n",
    "elastic_query(q)"
   ]
  },
  {
   "cell_type": "code",
   "execution_count": 12,
   "metadata": {},
   "outputs": [
    {
     "data": {
      "text/plain": [
       "[{'account_number': 136,\n",
       "  'balance': 45801,\n",
       "  'firstname': 'Winnie',\n",
       "  'lastname': 'Holland',\n",
       "  'age': 38,\n",
       "  'gender': 'M',\n",
       "  'address': '198 Mill Lane',\n",
       "  'employer': 'Neteria',\n",
       "  'email': 'winnieholland@neteria.com',\n",
       "  'city': 'Urie',\n",
       "  'state': 'IL'},\n",
       " {'account_number': 970,\n",
       "  'balance': 19648,\n",
       "  'firstname': 'Forbes',\n",
       "  'lastname': 'Wallace',\n",
       "  'age': 28,\n",
       "  'gender': 'M',\n",
       "  'address': '990 Mill Road',\n",
       "  'employer': 'Pheast',\n",
       "  'email': 'forbeswallace@pheast.com',\n",
       "  'city': 'Lopezo',\n",
       "  'state': 'AK'},\n",
       " {'account_number': 345,\n",
       "  'balance': 9812,\n",
       "  'firstname': 'Parker',\n",
       "  'lastname': 'Hines',\n",
       "  'age': 38,\n",
       "  'gender': 'M',\n",
       "  'address': '715 Mill Avenue',\n",
       "  'employer': 'Baluba',\n",
       "  'email': 'parkerhines@baluba.com',\n",
       "  'city': 'Blackgum',\n",
       "  'state': 'KY'},\n",
       " {'account_number': 472,\n",
       "  'balance': 25571,\n",
       "  'firstname': 'Lee',\n",
       "  'lastname': 'Long',\n",
       "  'age': 32,\n",
       "  'gender': 'F',\n",
       "  'address': '288 Mill Street',\n",
       "  'employer': 'Comverges',\n",
       "  'email': 'leelong@comverges.com',\n",
       "  'city': 'Movico',\n",
       "  'state': 'MT'},\n",
       " {'account_number': 70,\n",
       "  'balance': 38172,\n",
       "  'firstname': 'Deidre',\n",
       "  'lastname': 'Thompson',\n",
       "  'age': 33,\n",
       "  'gender': 'F',\n",
       "  'address': '685 School Lane',\n",
       "  'employer': 'Netplode',\n",
       "  'email': 'deidrethompson@netplode.com',\n",
       "  'city': 'Chestnut',\n",
       "  'state': 'GA'},\n",
       " {'account_number': 556,\n",
       "  'balance': 36420,\n",
       "  'firstname': 'Collier',\n",
       "  'lastname': 'Odonnell',\n",
       "  'age': 35,\n",
       "  'gender': 'M',\n",
       "  'address': '591 Nolans Lane',\n",
       "  'employer': 'Sultraxin',\n",
       "  'email': 'collierodonnell@sultraxin.com',\n",
       "  'city': 'Fulford',\n",
       "  'state': 'MD'},\n",
       " {'account_number': 568,\n",
       "  'balance': 36628,\n",
       "  'firstname': 'Lesa',\n",
       "  'lastname': 'Maynard',\n",
       "  'age': 29,\n",
       "  'gender': 'F',\n",
       "  'address': '295 Whitty Lane',\n",
       "  'employer': 'Coash',\n",
       "  'email': 'lesamaynard@coash.com',\n",
       "  'city': 'Broadlands',\n",
       "  'state': 'VT'},\n",
       " {'account_number': 715,\n",
       "  'balance': 23734,\n",
       "  'firstname': 'Tammi',\n",
       "  'lastname': 'Hodge',\n",
       "  'age': 24,\n",
       "  'gender': 'M',\n",
       "  'address': '865 Church Lane',\n",
       "  'employer': 'Netur',\n",
       "  'email': 'tammihodge@netur.com',\n",
       "  'city': 'Lacomb',\n",
       "  'state': 'KS'},\n",
       " {'account_number': 449,\n",
       "  'balance': 41950,\n",
       "  'firstname': 'Barnett',\n",
       "  'lastname': 'Cantrell',\n",
       "  'age': 39,\n",
       "  'gender': 'F',\n",
       "  'address': '945 Bedell Lane',\n",
       "  'employer': 'Zentility',\n",
       "  'email': 'barnettcantrell@zentility.com',\n",
       "  'city': 'Swartzville',\n",
       "  'state': 'ND'},\n",
       " {'account_number': 742,\n",
       "  'balance': 24765,\n",
       "  'firstname': 'Merle',\n",
       "  'lastname': 'Wooten',\n",
       "  'age': 26,\n",
       "  'gender': 'M',\n",
       "  'address': '317 Pooles Lane',\n",
       "  'employer': 'Tropolis',\n",
       "  'email': 'merlewooten@tropolis.com',\n",
       "  'city': 'Bentley',\n",
       "  'state': 'ND'}]"
      ]
     },
     "execution_count": 12,
     "metadata": {},
     "output_type": "execute_result"
    }
   ],
   "source": [
    "# Get all document whose address field contains either mill OR lane\n",
    "q={\"query\": { \"match\": { \"address\": \"mill lane\" }}}\n",
    "or_res=elastic_query(q)\n",
    "or_res"
   ]
  },
  {
   "cell_type": "code",
   "execution_count": 13,
   "metadata": {},
   "outputs": [
    {
     "data": {
      "text/plain": [
       "[{'account_number': 136,\n",
       "  'balance': 45801,\n",
       "  'firstname': 'Winnie',\n",
       "  'lastname': 'Holland',\n",
       "  'age': 38,\n",
       "  'gender': 'M',\n",
       "  'address': '198 Mill Lane',\n",
       "  'employer': 'Neteria',\n",
       "  'email': 'winnieholland@neteria.com',\n",
       "  'city': 'Urie',\n",
       "  'state': 'IL'},\n",
       " {'account_number': 970,\n",
       "  'balance': 19648,\n",
       "  'firstname': 'Forbes',\n",
       "  'lastname': 'Wallace',\n",
       "  'age': 28,\n",
       "  'gender': 'M',\n",
       "  'address': '990 Mill Road',\n",
       "  'employer': 'Pheast',\n",
       "  'email': 'forbeswallace@pheast.com',\n",
       "  'city': 'Lopezo',\n",
       "  'state': 'AK'},\n",
       " {'account_number': 345,\n",
       "  'balance': 9812,\n",
       "  'firstname': 'Parker',\n",
       "  'lastname': 'Hines',\n",
       "  'age': 38,\n",
       "  'gender': 'M',\n",
       "  'address': '715 Mill Avenue',\n",
       "  'employer': 'Baluba',\n",
       "  'email': 'parkerhines@baluba.com',\n",
       "  'city': 'Blackgum',\n",
       "  'state': 'KY'},\n",
       " {'account_number': 472,\n",
       "  'balance': 25571,\n",
       "  'firstname': 'Lee',\n",
       "  'lastname': 'Long',\n",
       "  'age': 32,\n",
       "  'gender': 'F',\n",
       "  'address': '288 Mill Street',\n",
       "  'employer': 'Comverges',\n",
       "  'email': 'leelong@comverges.com',\n",
       "  'city': 'Movico',\n",
       "  'state': 'MT'},\n",
       " {'account_number': 70,\n",
       "  'balance': 38172,\n",
       "  'firstname': 'Deidre',\n",
       "  'lastname': 'Thompson',\n",
       "  'age': 33,\n",
       "  'gender': 'F',\n",
       "  'address': '685 School Lane',\n",
       "  'employer': 'Netplode',\n",
       "  'email': 'deidrethompson@netplode.com',\n",
       "  'city': 'Chestnut',\n",
       "  'state': 'GA'},\n",
       " {'account_number': 556,\n",
       "  'balance': 36420,\n",
       "  'firstname': 'Collier',\n",
       "  'lastname': 'Odonnell',\n",
       "  'age': 35,\n",
       "  'gender': 'M',\n",
       "  'address': '591 Nolans Lane',\n",
       "  'employer': 'Sultraxin',\n",
       "  'email': 'collierodonnell@sultraxin.com',\n",
       "  'city': 'Fulford',\n",
       "  'state': 'MD'},\n",
       " {'account_number': 568,\n",
       "  'balance': 36628,\n",
       "  'firstname': 'Lesa',\n",
       "  'lastname': 'Maynard',\n",
       "  'age': 29,\n",
       "  'gender': 'F',\n",
       "  'address': '295 Whitty Lane',\n",
       "  'employer': 'Coash',\n",
       "  'email': 'lesamaynard@coash.com',\n",
       "  'city': 'Broadlands',\n",
       "  'state': 'VT'},\n",
       " {'account_number': 715,\n",
       "  'balance': 23734,\n",
       "  'firstname': 'Tammi',\n",
       "  'lastname': 'Hodge',\n",
       "  'age': 24,\n",
       "  'gender': 'M',\n",
       "  'address': '865 Church Lane',\n",
       "  'employer': 'Netur',\n",
       "  'email': 'tammihodge@netur.com',\n",
       "  'city': 'Lacomb',\n",
       "  'state': 'KS'},\n",
       " {'account_number': 449,\n",
       "  'balance': 41950,\n",
       "  'firstname': 'Barnett',\n",
       "  'lastname': 'Cantrell',\n",
       "  'age': 39,\n",
       "  'gender': 'F',\n",
       "  'address': '945 Bedell Lane',\n",
       "  'employer': 'Zentility',\n",
       "  'email': 'barnettcantrell@zentility.com',\n",
       "  'city': 'Swartzville',\n",
       "  'state': 'ND'},\n",
       " {'account_number': 742,\n",
       "  'balance': 24765,\n",
       "  'firstname': 'Merle',\n",
       "  'lastname': 'Wooten',\n",
       "  'age': 26,\n",
       "  'gender': 'M',\n",
       "  'address': '317 Pooles Lane',\n",
       "  'employer': 'Tropolis',\n",
       "  'email': 'merlewooten@tropolis.com',\n",
       "  'city': 'Bentley',\n",
       "  'state': 'ND'}]"
      ]
     },
     "execution_count": 13,
     "metadata": {},
     "output_type": "execute_result"
    }
   ],
   "source": [
    "# Get all document whose address field contains  mill or lane\n",
    "q={\"query\": { \n",
    "    \"bool\":{\n",
    "        \"should\":[ \n",
    "            {\"match\": { \"address\": \"mill\" }},\n",
    "            {\"match\": { \"address\": \"lane\" }}]\n",
    "        }\n",
    "    }}\n",
    "should_res=elastic_query(q)\n",
    "should_res"
   ]
  },
  {
   "cell_type": "code",
   "execution_count": 14,
   "metadata": {},
   "outputs": [
    {
     "data": {
      "text/plain": [
       "True"
      ]
     },
     "execution_count": 14,
     "metadata": {},
     "output_type": "execute_result"
    }
   ],
   "source": [
    "# Both queries return same result.\n",
    "should_res==or_res"
   ]
  },
  {
   "cell_type": "code",
   "execution_count": 15,
   "metadata": {},
   "outputs": [
    {
     "data": {
      "text/plain": [
       "[{'account_number': 136,\n",
       "  'balance': 45801,\n",
       "  'firstname': 'Winnie',\n",
       "  'lastname': 'Holland',\n",
       "  'age': 38,\n",
       "  'gender': 'M',\n",
       "  'address': '198 Mill Lane',\n",
       "  'employer': 'Neteria',\n",
       "  'email': 'winnieholland@neteria.com',\n",
       "  'city': 'Urie',\n",
       "  'state': 'IL'}]"
      ]
     },
     "execution_count": 15,
     "metadata": {},
     "output_type": "execute_result"
    }
   ],
   "source": [
    "# Get all document whose address field contains  mill AND lane\n",
    "q={\"query\": { \n",
    "    \"bool\":{\n",
    "        \"must\":[ \n",
    "            {\"match\": { \"address\": \"mill\" }},\n",
    "            {\"match\": { \"address\": \"lane\" }}]\n",
    "        }\n",
    "    }}\n",
    "elastic_query(q)"
   ]
  },
  {
   "cell_type": "code",
   "execution_count": 16,
   "metadata": {},
   "outputs": [],
   "source": [
    "# Get all document whose address field  contain neither mill nor lane\n",
    "q={\"query\": { \n",
    "    \"bool\":{\n",
    "        \"must_not\":[ \n",
    "            {\"match\": { \"address\": \"mill\" }},\n",
    "            {\"match\": { \"address\": \"lane\" }}]\n",
    "        }\n",
    "    }}\n",
    "nor=elastic_query(q)"
   ]
  },
  {
   "cell_type": "code",
   "execution_count": 17,
   "metadata": {},
   "outputs": [
    {
     "data": {
      "text/plain": [
       "[{'account_number': 474,\n",
       "  'balance': 35896,\n",
       "  'firstname': 'Obrien',\n",
       "  'lastname': 'Walton',\n",
       "  'age': 40,\n",
       "  'gender': 'F',\n",
       "  'address': '192 Ide Court',\n",
       "  'employer': 'Suremax',\n",
       "  'email': 'obrienwalton@suremax.com',\n",
       "  'city': 'Crucible',\n",
       "  'state': 'UT'},\n",
       " {'account_number': 479,\n",
       "  'balance': 31865,\n",
       "  'firstname': 'Cameron',\n",
       "  'lastname': 'Ross',\n",
       "  'age': 40,\n",
       "  'gender': 'M',\n",
       "  'address': '904 Bouck Court',\n",
       "  'employer': 'Telpod',\n",
       "  'email': 'cameronross@telpod.com',\n",
       "  'city': 'Nord',\n",
       "  'state': 'MO'},\n",
       " {'account_number': 549,\n",
       "  'balance': 1932,\n",
       "  'firstname': 'Jacqueline',\n",
       "  'lastname': 'Maxwell',\n",
       "  'age': 40,\n",
       "  'gender': 'M',\n",
       "  'address': '444 Schenck Place',\n",
       "  'employer': 'Fuelworks',\n",
       "  'email': 'jacquelinemaxwell@fuelworks.com',\n",
       "  'city': 'Oretta',\n",
       "  'state': 'OR'},\n",
       " {'account_number': 878,\n",
       "  'balance': 49159,\n",
       "  'firstname': 'Battle',\n",
       "  'lastname': 'Blackburn',\n",
       "  'age': 40,\n",
       "  'gender': 'F',\n",
       "  'address': '234 Hendrix Street',\n",
       "  'employer': 'Zilphur',\n",
       "  'email': 'battleblackburn@zilphur.com',\n",
       "  'city': 'Wanamie',\n",
       "  'state': 'PA'},\n",
       " {'account_number': 885,\n",
       "  'balance': 31661,\n",
       "  'firstname': 'Valdez',\n",
       "  'lastname': 'Roberson',\n",
       "  'age': 40,\n",
       "  'gender': 'F',\n",
       "  'address': '227 Scholes Street',\n",
       "  'employer': 'Delphide',\n",
       "  'email': 'valdezroberson@delphide.com',\n",
       "  'city': 'Chilton',\n",
       "  'state': 'MT'},\n",
       " {'account_number': 948,\n",
       "  'balance': 37074,\n",
       "  'firstname': 'Sargent',\n",
       "  'lastname': 'Powers',\n",
       "  'age': 40,\n",
       "  'gender': 'M',\n",
       "  'address': '532 Fiske Place',\n",
       "  'employer': 'Accuprint',\n",
       "  'email': 'sargentpowers@accuprint.com',\n",
       "  'city': 'Umapine',\n",
       "  'state': 'AK'},\n",
       " {'account_number': 998,\n",
       "  'balance': 16869,\n",
       "  'firstname': 'Letha',\n",
       "  'lastname': 'Baker',\n",
       "  'age': 40,\n",
       "  'gender': 'F',\n",
       "  'address': '206 Llama Court',\n",
       "  'employer': 'Dognosis',\n",
       "  'email': 'lethabaker@dognosis.com',\n",
       "  'city': 'Dunlo',\n",
       "  'state': 'WV'},\n",
       " {'account_number': 40,\n",
       "  'balance': 33882,\n",
       "  'firstname': 'Pace',\n",
       "  'lastname': 'Molina',\n",
       "  'age': 40,\n",
       "  'gender': 'M',\n",
       "  'address': '263 Ovington Court',\n",
       "  'employer': 'Cytrak',\n",
       "  'email': 'pacemolina@cytrak.com',\n",
       "  'city': 'Silkworth',\n",
       "  'state': 'OR'},\n",
       " {'account_number': 165,\n",
       "  'balance': 18956,\n",
       "  'firstname': 'Sims',\n",
       "  'lastname': 'Mckay',\n",
       "  'age': 40,\n",
       "  'gender': 'F',\n",
       "  'address': '205 Jackson Street',\n",
       "  'employer': 'Comtour',\n",
       "  'email': 'simsmckay@comtour.com',\n",
       "  'city': 'Tilden',\n",
       "  'state': 'DC'},\n",
       " {'account_number': 177,\n",
       "  'balance': 48972,\n",
       "  'firstname': 'Harris',\n",
       "  'lastname': 'Gross',\n",
       "  'age': 40,\n",
       "  'gender': 'F',\n",
       "  'address': '468 Suydam Street',\n",
       "  'employer': 'Kidstock',\n",
       "  'email': 'harrisgross@kidstock.com',\n",
       "  'city': 'Yettem',\n",
       "  'state': 'KY'}]"
      ]
     },
     "execution_count": 17,
     "metadata": {},
     "output_type": "execute_result"
    }
   ],
   "source": [
    "q={ \"query\": {\n",
    "    \"bool\": {\n",
    "      \"must\": [\n",
    "        { \"match\": { \"age\": \"40\" } }\n",
    "      ],\n",
    "      \"must_not\": [\n",
    "        { \"match\": { \"state\": \"ID\" } }\n",
    "      ]\n",
    "    }\n",
    "  }}\n",
    "elastic_query(q)"
   ]
  },
  {
   "cell_type": "markdown",
   "metadata": {},
   "source": [
    "# Executing Queries with filters"
   ]
  },
  {
   "cell_type": "code",
   "execution_count": 18,
   "metadata": {},
   "outputs": [
    {
     "data": {
      "text/plain": [
       "[{'account_number': 359,\n",
       "  'balance': 29927,\n",
       "  'firstname': 'Vanessa',\n",
       "  'lastname': 'Harvey',\n",
       "  'age': 28,\n",
       "  'gender': 'F',\n",
       "  'address': '679 Rutledge Street',\n",
       "  'employer': 'Zentime',\n",
       "  'email': 'vanessaharvey@zentime.com',\n",
       "  'city': 'Williston',\n",
       "  'state': 'IL'},\n",
       " {'account_number': 196,\n",
       "  'balance': 29931,\n",
       "  'firstname': 'Caldwell',\n",
       "  'lastname': 'Daniel',\n",
       "  'age': 28,\n",
       "  'gender': 'F',\n",
       "  'address': '405 Oliver Street',\n",
       "  'employer': 'Furnigeer',\n",
       "  'email': 'caldwelldaniel@furnigeer.com',\n",
       "  'city': 'Zortman',\n",
       "  'state': 'NE'},\n",
       " {'account_number': 781,\n",
       "  'balance': 29961,\n",
       "  'firstname': 'Sanford',\n",
       "  'lastname': 'Mullen',\n",
       "  'age': 26,\n",
       "  'gender': 'F',\n",
       "  'address': '879 Dover Street',\n",
       "  'employer': 'Zanity',\n",
       "  'email': 'sanfordmullen@zanity.com',\n",
       "  'city': 'Martinez',\n",
       "  'state': 'TX'}]"
      ]
     },
     "execution_count": 18,
     "metadata": {},
     "output_type": "execute_result"
    }
   ],
   "source": [
    "# Get all documents whose balance between 29920-30000\n",
    "q={\"query\": {\n",
    "    \"bool\": {\n",
    "      \"must\": { \"match_all\": {} },\n",
    "      \"filter\": {\n",
    "        \"range\": {\n",
    "          \"balance\": {\n",
    "            \"gte\": 29920,\n",
    "            \"lte\": 30000\n",
    "          }}}}}}\n",
    "\n",
    "elastic_query(q)"
   ]
  },
  {
   "cell_type": "code",
   "execution_count": 20,
   "metadata": {},
   "outputs": [
    {
     "data": {
      "text/plain": [
       "[]"
      ]
     },
     "execution_count": 20,
     "metadata": {},
     "output_type": "execute_result"
    }
   ],
   "source": [
    "# Get all documents whose city is exactly martinez\n",
    "q={\"query\": {\n",
    "    \"bool\": {\n",
    "      \"must\": { \"match_all\": {}},\n",
    "      \"filter\": {\n",
    "        \"term\": {\n",
    "          \"city.raw\": \"martinez\"\n",
    "        }}}}}\n",
    "\n",
    "elastic_query(q)"
   ]
  },
  {
   "cell_type": "code",
   "execution_count": 21,
   "metadata": {},
   "outputs": [
    {
     "data": {
      "text/plain": [
       "[{'account_number': 781,\n",
       "  'balance': 29961,\n",
       "  'firstname': 'Sanford',\n",
       "  'lastname': 'Mullen',\n",
       "  'age': 26,\n",
       "  'gender': 'F',\n",
       "  'address': '879 Dover Street',\n",
       "  'employer': 'Zanity',\n",
       "  'email': 'sanfordmullen@zanity.com',\n",
       "  'city': 'Martinez',\n",
       "  'state': 'TX'}]"
      ]
     },
     "execution_count": 21,
     "metadata": {},
     "output_type": "execute_result"
    }
   ],
   "source": [
    "# Get all documents whose city is martinez #caseinsensitive\n",
    "q={\"query\": {\n",
    "    \"bool\": {\n",
    "      \"must\": { \"match_all\": {}},\n",
    "      \"filter\": {\n",
    "        \"term\": {\n",
    "          \"city\": \"martinez\"\n",
    "        }}}}}\n",
    "\n",
    "elastic_query(q)"
   ]
  },
  {
   "cell_type": "markdown",
   "metadata": {},
   "source": [
    "# Indexing via update\n",
    "\n",
    "Upsert!"
   ]
  },
  {
   "cell_type": "code",
   "execution_count": 147,
   "metadata": {},
   "outputs": [],
   "source": [
    "# we manually update some documents to add additional information\n",
    "UPDATES = [{\"_type\": \"_doc\",\n",
    "            \"_id\": \"1\",\n",
    "            \"_op_type\": \"update\",\n",
    "            \"doc\": {\"Facked\": True},\n",
    "            \"doc_as_upsert\":True\n",
    "           }]"
   ]
  },
  {
   "cell_type": "code",
   "execution_count": 148,
   "metadata": {},
   "outputs": [
    {
     "data": {
      "text/plain": [
       "(1, [])"
      ]
     },
     "execution_count": 148,
     "metadata": {},
     "output_type": "execute_result"
    }
   ],
   "source": [
    "helpers.bulk(es, UPDATES, index=\"bank\")"
   ]
  },
  {
   "cell_type": "code",
   "execution_count": 149,
   "metadata": {},
   "outputs": [
    {
     "data": {
      "text/plain": [
       "{'_index': 'bank',\n",
       " '_type': '_doc',\n",
       " '_id': '1',\n",
       " '_version': 2,\n",
       " '_seq_no': 1001,\n",
       " '_primary_term': 1,\n",
       " 'found': True,\n",
       " '_source': {'account_number': 1,\n",
       "  'balance': 39225,\n",
       "  'firstname': 'Amber',\n",
       "  'lastname': 'Duke',\n",
       "  'age': 32,\n",
       "  'gender': 'M',\n",
       "  'address': '880 Holmes Lane',\n",
       "  'employer': 'Pyrami',\n",
       "  'email': 'amberduke@pyrami.com',\n",
       "  'city': 'Brogan',\n",
       "  'state': 'IL',\n",
       "  'Facked': True}}"
      ]
     },
     "execution_count": 149,
     "metadata": {},
     "output_type": "execute_result"
    }
   ],
   "source": [
    "es.get(index=\"bank\", id=1)"
   ]
  }
 ],
 "metadata": {
  "kernelspec": {
   "display_name": "elastic",
   "language": "python",
   "name": "elastic"
  },
  "language_info": {
   "codemirror_mode": {
    "name": "ipython",
    "version": 3
   },
   "file_extension": ".py",
   "mimetype": "text/x-python",
   "name": "python",
   "nbconvert_exporter": "python",
   "pygments_lexer": "ipython3",
   "version": "3.7.3"
  }
 },
 "nbformat": 4,
 "nbformat_minor": 2
}
