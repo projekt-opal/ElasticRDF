{
 "cells": [
  {
   "cell_type": "code",
   "execution_count": 4,
   "metadata": {},
   "outputs": [],
   "source": [
    "from elasticsearch import Elasticsearch\n",
    "from elasticsearch import helpers\n",
    "import reader\n",
    "# Connect to the elastic cluster\n",
    "es=Elasticsearch([{'host':'localhost','port':9200}])"
   ]
  },
  {
   "cell_type": "code",
   "execution_count": 121,
   "metadata": {},
   "outputs": [
    {
     "data": {
      "text/plain": [
       "{'acknowledged': True, 'shards_acknowledged': True, 'index': 'bank'}"
      ]
     },
     "execution_count": 121,
     "metadata": {},
     "output_type": "execute_result"
    }
   ],
   "source": [
    "# Get all indices   =>   es.indices.get_alias(\"*\")\n",
    "# Delete an index   =>   es.indices.delete(index='.monitoring-es-7-2019.06.21')\n",
    "# Create an index   =>   es.indices.create(index='opal_dataset')\n",
    "es.indices.create(index='bank')"
   ]
  },
  {
   "cell_type": "code",
   "execution_count": 124,
   "metadata": {},
   "outputs": [],
   "source": [
    "url='https://raw.githubusercontent.com/elastic/elasticsearch/master/docs/src/test/resources/accounts.json'\n",
    "gen_data=reader.get_sample_data(url,index_name='bank')"
   ]
  },
  {
   "cell_type": "code",
   "execution_count": 125,
   "metadata": {},
   "outputs": [
    {
     "data": {
      "text/plain": [
       "(1000, [])"
      ]
     },
     "execution_count": 125,
     "metadata": {},
     "output_type": "execute_result"
    }
   ],
   "source": [
    "helpers.bulk(es, gen_data)"
   ]
  },
  {
   "cell_type": "code",
   "execution_count": 5,
   "metadata": {},
   "outputs": [
    {
     "data": {
      "text/plain": [
       "{'count': 1001,\n",
       " '_shards': {'total': 1, 'successful': 1, 'skipped': 0, 'failed': 0}}"
      ]
     },
     "execution_count": 5,
     "metadata": {},
     "output_type": "execute_result"
    }
   ],
   "source": [
    "# Number of documents indexed\n",
    "es.count(index='bank')"
   ]
  },
  {
   "cell_type": "markdown",
   "metadata": {},
   "source": [
    "## Introducting the Query Language"
   ]
  },
  {
   "cell_type": "code",
   "execution_count": 6,
   "metadata": {},
   "outputs": [],
   "source": [
    "def elastic_query(q):\n",
    "    hits=es.search(index='bank',body=q)['hits']['hits']\n",
    "    return [i['_source'] for i in hits]"
   ]
  },
  {
   "cell_type": "code",
   "execution_count": 7,
   "metadata": {},
   "outputs": [
    {
     "data": {
      "text/plain": [
       "[{'account_number': 6,\n",
       "  'balance': 5686,\n",
       "  'firstname': 'Hattie',\n",
       "  'lastname': 'Bond',\n",
       "  'age': 36,\n",
       "  'gender': 'M',\n",
       "  'address': '671 Bristol Street',\n",
       "  'employer': 'Netagy',\n",
       "  'email': 'hattiebond@netagy.com',\n",
       "  'city': 'Dante',\n",
       "  'state': 'TN'}]"
      ]
     },
     "execution_count": 7,
     "metadata": {},
     "output_type": "execute_result"
    }
   ],
   "source": [
    "# Get first  document\n",
    "q={\"query\": { \"match_all\": {} },\n",
    "   \"size\": 1}\n",
    "elastic_query(q)"
   ]
  },
  {
   "cell_type": "code",
   "execution_count": 8,
   "metadata": {},
   "outputs": [
    {
     "data": {
      "text/plain": [
       "[{'account_number': 56,\n",
       "  'balance': 14992,\n",
       "  'firstname': 'Josie',\n",
       "  'lastname': 'Nelson',\n",
       "  'age': 32,\n",
       "  'gender': 'M',\n",
       "  'address': '857 Tabor Court',\n",
       "  'employer': 'Emtrac',\n",
       "  'email': 'josienelson@emtrac.com',\n",
       "  'city': 'Sunnyside',\n",
       "  'state': 'UT'}]"
      ]
     },
     "execution_count": 8,
     "metadata": {},
     "output_type": "execute_result"
    }
   ],
   "source": [
    "# Get 11th  document\n",
    "q={\"query\": { \"match_all\": {} },\n",
    "   \"from\": 10,\n",
    "   \"size\": 1}\n",
    "elastic_query(q)"
   ]
  },
  {
   "cell_type": "code",
   "execution_count": 9,
   "metadata": {},
   "outputs": [
    {
     "data": {
      "text/plain": [
       "[{'account_number': 0,\n",
       "  'balance': 16623,\n",
       "  'firstname': 'Bradshaw',\n",
       "  'lastname': 'Mckenzie',\n",
       "  'age': 29,\n",
       "  'gender': 'F',\n",
       "  'address': '244 Columbus Place',\n",
       "  'employer': 'Euron',\n",
       "  'email': 'bradshawmckenzie@euron.com',\n",
       "  'city': 'Hobucken',\n",
       "  'state': 'CO'},\n",
       " {'account_number': 1,\n",
       "  'balance': 39225,\n",
       "  'firstname': 'Amber',\n",
       "  'lastname': 'Duke',\n",
       "  'age': 32,\n",
       "  'gender': 'M',\n",
       "  'address': '880 Holmes Lane',\n",
       "  'employer': 'Pyrami',\n",
       "  'email': 'amberduke@pyrami.com',\n",
       "  'city': 'Brogan',\n",
       "  'state': 'IL',\n",
       "  'Facked': True}]"
      ]
     },
     "execution_count": 9,
     "metadata": {},
     "output_type": "execute_result"
    }
   ],
   "source": [
    "order='asc' # ascending ordered\n",
    "field=\"account_number\"\n",
    "query={\"query\":\n",
    "       {\"match_all\":{}},\n",
    "       \"sort\":[{field:order}],\n",
    "       \"size\":\"2\"}\n",
    "\n",
    "elastic_query(query)"
   ]
  },
  {
   "cell_type": "code",
   "execution_count": 10,
   "metadata": {},
   "outputs": [
    {
     "data": {
      "text/plain": [
       "[{'account_number': 20,\n",
       "  'balance': 16418,\n",
       "  'firstname': 'Elinor',\n",
       "  'lastname': 'Ratliff',\n",
       "  'age': 36,\n",
       "  'gender': 'M',\n",
       "  'address': '282 Kings Place',\n",
       "  'employer': 'Scentric',\n",
       "  'email': 'elinorratliff@scentric.com',\n",
       "  'city': 'Ribera',\n",
       "  'state': 'WA'}]"
      ]
     },
     "execution_count": 10,
     "metadata": {},
     "output_type": "execute_result"
    }
   ],
   "source": [
    "# Get documents whose account_number fields satisfy such query. \n",
    "# \"Expectedly\" only one document returned\n",
    "\n",
    "q={\"query\": { \"match\": {\"account_number\":20} }}\n",
    "elastic_query(q)"
   ]
  },
  {
   "cell_type": "code",
   "execution_count": 11,
   "metadata": {},
   "outputs": [
    {
     "data": {
      "text/plain": [
       "[{'account_number': 970,\n",
       "  'balance': 19648,\n",
       "  'firstname': 'Forbes',\n",
       "  'lastname': 'Wallace',\n",
       "  'age': 28,\n",
       "  'gender': 'M',\n",
       "  'address': '990 Mill Road',\n",
       "  'employer': 'Pheast',\n",
       "  'email': 'forbeswallace@pheast.com',\n",
       "  'city': 'Lopezo',\n",
       "  'state': 'AK'},\n",
       " {'account_number': 136,\n",
       "  'balance': 45801,\n",
       "  'firstname': 'Winnie',\n",
       "  'lastname': 'Holland',\n",
       "  'age': 38,\n",
       "  'gender': 'M',\n",
       "  'address': '198 Mill Lane',\n",
       "  'employer': 'Neteria',\n",
       "  'email': 'winnieholland@neteria.com',\n",
       "  'city': 'Urie',\n",
       "  'state': 'IL'},\n",
       " {'account_number': 345,\n",
       "  'balance': 9812,\n",
       "  'firstname': 'Parker',\n",
       "  'lastname': 'Hines',\n",
       "  'age': 38,\n",
       "  'gender': 'M',\n",
       "  'address': '715 Mill Avenue',\n",
       "  'employer': 'Baluba',\n",
       "  'email': 'parkerhines@baluba.com',\n",
       "  'city': 'Blackgum',\n",
       "  'state': 'KY'},\n",
       " {'account_number': 472,\n",
       "  'balance': 25571,\n",
       "  'firstname': 'Lee',\n",
       "  'lastname': 'Long',\n",
       "  'age': 32,\n",
       "  'gender': 'F',\n",
       "  'address': '288 Mill Street',\n",
       "  'employer': 'Comverges',\n",
       "  'email': 'leelong@comverges.com',\n",
       "  'city': 'Movico',\n",
       "  'state': 'MT'}]"
      ]
     },
     "execution_count": 11,
     "metadata": {},
     "output_type": "execute_result"
    }
   ],
   "source": [
    "# Get document whose address field satisfies such query.\n",
    "q={\"query\": { \"match\": { \"address\": \"mill\" }}}\n",
    "elastic_query(q)"
   ]
  },
  {
   "cell_type": "code",
   "execution_count": 12,
   "metadata": {},
   "outputs": [
    {
     "data": {
      "text/plain": [
       "[{'account_number': 136,\n",
       "  'balance': 45801,\n",
       "  'firstname': 'Winnie',\n",
       "  'lastname': 'Holland',\n",
       "  'age': 38,\n",
       "  'gender': 'M',\n",
       "  'address': '198 Mill Lane',\n",
       "  'employer': 'Neteria',\n",
       "  'email': 'winnieholland@neteria.com',\n",
       "  'city': 'Urie',\n",
       "  'state': 'IL'},\n",
       " {'account_number': 970,\n",
       "  'balance': 19648,\n",
       "  'firstname': 'Forbes',\n",
       "  'lastname': 'Wallace',\n",
       "  'age': 28,\n",
       "  'gender': 'M',\n",
       "  'address': '990 Mill Road',\n",
       "  'employer': 'Pheast',\n",
       "  'email': 'forbeswallace@pheast.com',\n",
       "  'city': 'Lopezo',\n",
       "  'state': 'AK'},\n",
       " {'account_number': 345,\n",
       "  'balance': 9812,\n",
       "  'firstname': 'Parker',\n",
       "  'lastname': 'Hines',\n",
       "  'age': 38,\n",
       "  'gender': 'M',\n",
       "  'address': '715 Mill Avenue',\n",
       "  'employer': 'Baluba',\n",
       "  'email': 'parkerhines@baluba.com',\n",
       "  'city': 'Blackgum',\n",
       "  'state': 'KY'},\n",
       " {'account_number': 472,\n",
       "  'balance': 25571,\n",
       "  'firstname': 'Lee',\n",
       "  'lastname': 'Long',\n",
       "  'age': 32,\n",
       "  'gender': 'F',\n",
       "  'address': '288 Mill Street',\n",
       "  'employer': 'Comverges',\n",
       "  'email': 'leelong@comverges.com',\n",
       "  'city': 'Movico',\n",
       "  'state': 'MT'},\n",
       " {'account_number': 70,\n",
       "  'balance': 38172,\n",
       "  'firstname': 'Deidre',\n",
       "  'lastname': 'Thompson',\n",
       "  'age': 33,\n",
       "  'gender': 'F',\n",
       "  'address': '685 School Lane',\n",
       "  'employer': 'Netplode',\n",
       "  'email': 'deidrethompson@netplode.com',\n",
       "  'city': 'Chestnut',\n",
       "  'state': 'GA'},\n",
       " {'account_number': 556,\n",
       "  'balance': 36420,\n",
       "  'firstname': 'Collier',\n",
       "  'lastname': 'Odonnell',\n",
       "  'age': 35,\n",
       "  'gender': 'M',\n",
       "  'address': '591 Nolans Lane',\n",
       "  'employer': 'Sultraxin',\n",
       "  'email': 'collierodonnell@sultraxin.com',\n",
       "  'city': 'Fulford',\n",
       "  'state': 'MD'},\n",
       " {'account_number': 568,\n",
       "  'balance': 36628,\n",
       "  'firstname': 'Lesa',\n",
       "  'lastname': 'Maynard',\n",
       "  'age': 29,\n",
       "  'gender': 'F',\n",
       "  'address': '295 Whitty Lane',\n",
       "  'employer': 'Coash',\n",
       "  'email': 'lesamaynard@coash.com',\n",
       "  'city': 'Broadlands',\n",
       "  'state': 'VT'},\n",
       " {'account_number': 715,\n",
       "  'balance': 23734,\n",
       "  'firstname': 'Tammi',\n",
       "  'lastname': 'Hodge',\n",
       "  'age': 24,\n",
       "  'gender': 'M',\n",
       "  'address': '865 Church Lane',\n",
       "  'employer': 'Netur',\n",
       "  'email': 'tammihodge@netur.com',\n",
       "  'city': 'Lacomb',\n",
       "  'state': 'KS'},\n",
       " {'account_number': 449,\n",
       "  'balance': 41950,\n",
       "  'firstname': 'Barnett',\n",
       "  'lastname': 'Cantrell',\n",
       "  'age': 39,\n",
       "  'gender': 'F',\n",
       "  'address': '945 Bedell Lane',\n",
       "  'employer': 'Zentility',\n",
       "  'email': 'barnettcantrell@zentility.com',\n",
       "  'city': 'Swartzville',\n",
       "  'state': 'ND'},\n",
       " {'account_number': 742,\n",
       "  'balance': 24765,\n",
       "  'firstname': 'Merle',\n",
       "  'lastname': 'Wooten',\n",
       "  'age': 26,\n",
       "  'gender': 'M',\n",
       "  'address': '317 Pooles Lane',\n",
       "  'employer': 'Tropolis',\n",
       "  'email': 'merlewooten@tropolis.com',\n",
       "  'city': 'Bentley',\n",
       "  'state': 'ND'}]"
      ]
     },
     "execution_count": 12,
     "metadata": {},
     "output_type": "execute_result"
    }
   ],
   "source": [
    "# Get all document whose address field contains either mill OR lane\n",
    "q={\"query\": { \"match\": { \"address\": \"mill lane\" }}}\n",
    "or_res=elastic_query(q)\n",
    "or_res"
   ]
  },
  {
   "cell_type": "code",
   "execution_count": 13,
   "metadata": {},
   "outputs": [
    {
     "data": {
      "text/plain": [
       "[{'account_number': 136,\n",
       "  'balance': 45801,\n",
       "  'firstname': 'Winnie',\n",
       "  'lastname': 'Holland',\n",
       "  'age': 38,\n",
       "  'gender': 'M',\n",
       "  'address': '198 Mill Lane',\n",
       "  'employer': 'Neteria',\n",
       "  'email': 'winnieholland@neteria.com',\n",
       "  'city': 'Urie',\n",
       "  'state': 'IL'},\n",
       " {'account_number': 970,\n",
       "  'balance': 19648,\n",
       "  'firstname': 'Forbes',\n",
       "  'lastname': 'Wallace',\n",
       "  'age': 28,\n",
       "  'gender': 'M',\n",
       "  'address': '990 Mill Road',\n",
       "  'employer': 'Pheast',\n",
       "  'email': 'forbeswallace@pheast.com',\n",
       "  'city': 'Lopezo',\n",
       "  'state': 'AK'},\n",
       " {'account_number': 345,\n",
       "  'balance': 9812,\n",
       "  'firstname': 'Parker',\n",
       "  'lastname': 'Hines',\n",
       "  'age': 38,\n",
       "  'gender': 'M',\n",
       "  'address': '715 Mill Avenue',\n",
       "  'employer': 'Baluba',\n",
       "  'email': 'parkerhines@baluba.com',\n",
       "  'city': 'Blackgum',\n",
       "  'state': 'KY'},\n",
       " {'account_number': 472,\n",
       "  'balance': 25571,\n",
       "  'firstname': 'Lee',\n",
       "  'lastname': 'Long',\n",
       "  'age': 32,\n",
       "  'gender': 'F',\n",
       "  'address': '288 Mill Street',\n",
       "  'employer': 'Comverges',\n",
       "  'email': 'leelong@comverges.com',\n",
       "  'city': 'Movico',\n",
       "  'state': 'MT'},\n",
       " {'account_number': 70,\n",
       "  'balance': 38172,\n",
       "  'firstname': 'Deidre',\n",
       "  'lastname': 'Thompson',\n",
       "  'age': 33,\n",
       "  'gender': 'F',\n",
       "  'address': '685 School Lane',\n",
       "  'employer': 'Netplode',\n",
       "  'email': 'deidrethompson@netplode.com',\n",
       "  'city': 'Chestnut',\n",
       "  'state': 'GA'},\n",
       " {'account_number': 556,\n",
       "  'balance': 36420,\n",
       "  'firstname': 'Collier',\n",
       "  'lastname': 'Odonnell',\n",
       "  'age': 35,\n",
       "  'gender': 'M',\n",
       "  'address': '591 Nolans Lane',\n",
       "  'employer': 'Sultraxin',\n",
       "  'email': 'collierodonnell@sultraxin.com',\n",
       "  'city': 'Fulford',\n",
       "  'state': 'MD'},\n",
       " {'account_number': 568,\n",
       "  'balance': 36628,\n",
       "  'firstname': 'Lesa',\n",
       "  'lastname': 'Maynard',\n",
       "  'age': 29,\n",
       "  'gender': 'F',\n",
       "  'address': '295 Whitty Lane',\n",
       "  'employer': 'Coash',\n",
       "  'email': 'lesamaynard@coash.com',\n",
       "  'city': 'Broadlands',\n",
       "  'state': 'VT'},\n",
       " {'account_number': 715,\n",
       "  'balance': 23734,\n",
       "  'firstname': 'Tammi',\n",
       "  'lastname': 'Hodge',\n",
       "  'age': 24,\n",
       "  'gender': 'M',\n",
       "  'address': '865 Church Lane',\n",
       "  'employer': 'Netur',\n",
       "  'email': 'tammihodge@netur.com',\n",
       "  'city': 'Lacomb',\n",
       "  'state': 'KS'},\n",
       " {'account_number': 449,\n",
       "  'balance': 41950,\n",
       "  'firstname': 'Barnett',\n",
       "  'lastname': 'Cantrell',\n",
       "  'age': 39,\n",
       "  'gender': 'F',\n",
       "  'address': '945 Bedell Lane',\n",
       "  'employer': 'Zentility',\n",
       "  'email': 'barnettcantrell@zentility.com',\n",
       "  'city': 'Swartzville',\n",
       "  'state': 'ND'},\n",
       " {'account_number': 742,\n",
       "  'balance': 24765,\n",
       "  'firstname': 'Merle',\n",
       "  'lastname': 'Wooten',\n",
       "  'age': 26,\n",
       "  'gender': 'M',\n",
       "  'address': '317 Pooles Lane',\n",
       "  'employer': 'Tropolis',\n",
       "  'email': 'merlewooten@tropolis.com',\n",
       "  'city': 'Bentley',\n",
       "  'state': 'ND'}]"
      ]
     },
     "execution_count": 13,
     "metadata": {},
     "output_type": "execute_result"
    }
   ],
   "source": [
    "# Get all document whose address field contains  mill or lane\n",
    "q={\"query\": { \n",
    "    \"bool\":{\n",
    "        \"should\":[ \n",
    "            {\"match\": { \"address\": \"mill\" }},\n",
    "            {\"match\": { \"address\": \"lane\" }}]\n",
    "        }\n",
    "    }}\n",
    "should_res=elastic_query(q)\n",
    "should_res"
   ]
  },
  {
   "cell_type": "code",
   "execution_count": 14,
   "metadata": {},
   "outputs": [
    {
     "data": {
      "text/plain": [
       "True"
      ]
     },
     "execution_count": 14,
     "metadata": {},
     "output_type": "execute_result"
    }
   ],
   "source": [
    "# Both queries return same result.\n",
    "should_res==or_res"
   ]
  },
  {
   "cell_type": "code",
   "execution_count": 15,
   "metadata": {},
   "outputs": [
    {
     "data": {
      "text/plain": [
       "[{'account_number': 136,\n",
       "  'balance': 45801,\n",
       "  'firstname': 'Winnie',\n",
       "  'lastname': 'Holland',\n",
       "  'age': 38,\n",
       "  'gender': 'M',\n",
       "  'address': '198 Mill Lane',\n",
       "  'employer': 'Neteria',\n",
       "  'email': 'winnieholland@neteria.com',\n",
       "  'city': 'Urie',\n",
       "  'state': 'IL'}]"
      ]
     },
     "execution_count": 15,
     "metadata": {},
     "output_type": "execute_result"
    }
   ],
   "source": [
    "# Get all document whose address field contains  mill AND lane\n",
    "q={\"query\": { \n",
    "    \"bool\":{\n",
    "        \"must\":[ \n",
    "            {\"match\": { \"address\": \"mill\" }},\n",
    "            {\"match\": { \"address\": \"lane\" }}]\n",
    "        }\n",
    "    }}\n",
    "elastic_query(q)"
   ]
  },
  {
   "cell_type": "code",
   "execution_count": 16,
   "metadata": {},
   "outputs": [],
   "source": [
    "# Get all document whose address field  contain neither mill nor lane\n",
    "q={\"query\": { \n",
    "    \"bool\":{\n",
    "        \"must_not\":[ \n",
    "            {\"match\": { \"address\": \"mill\" }},\n",
    "            {\"match\": { \"address\": \"lane\" }}]\n",
    "        }\n",
    "    }}\n",
    "nor=elastic_query(q)"
   ]
  },
  {
   "cell_type": "code",
   "execution_count": 17,
   "metadata": {},
   "outputs": [
    {
     "data": {
      "text/plain": [
       "[{'account_number': 474,\n",
       "  'balance': 35896,\n",
       "  'firstname': 'Obrien',\n",
       "  'lastname': 'Walton',\n",
       "  'age': 40,\n",
       "  'gender': 'F',\n",
       "  'address': '192 Ide Court',\n",
       "  'employer': 'Suremax',\n",
       "  'email': 'obrienwalton@suremax.com',\n",
       "  'city': 'Crucible',\n",
       "  'state': 'UT'},\n",
       " {'account_number': 479,\n",
       "  'balance': 31865,\n",
       "  'firstname': 'Cameron',\n",
       "  'lastname': 'Ross',\n",
       "  'age': 40,\n",
       "  'gender': 'M',\n",
       "  'address': '904 Bouck Court',\n",
       "  'employer': 'Telpod',\n",
       "  'email': 'cameronross@telpod.com',\n",
       "  'city': 'Nord',\n",
       "  'state': 'MO'},\n",
       " {'account_number': 549,\n",
       "  'balance': 1932,\n",
       "  'firstname': 'Jacqueline',\n",
       "  'lastname': 'Maxwell',\n",
       "  'age': 40,\n",
       "  'gender': 'M',\n",
       "  'address': '444 Schenck Place',\n",
       "  'employer': 'Fuelworks',\n",
       "  'email': 'jacquelinemaxwell@fuelworks.com',\n",
       "  'city': 'Oretta',\n",
       "  'state': 'OR'},\n",
       " {'account_number': 878,\n",
       "  'balance': 49159,\n",
       "  'firstname': 'Battle',\n",
       "  'lastname': 'Blackburn',\n",
       "  'age': 40,\n",
       "  'gender': 'F',\n",
       "  'address': '234 Hendrix Street',\n",
       "  'employer': 'Zilphur',\n",
       "  'email': 'battleblackburn@zilphur.com',\n",
       "  'city': 'Wanamie',\n",
       "  'state': 'PA'},\n",
       " {'account_number': 885,\n",
       "  'balance': 31661,\n",
       "  'firstname': 'Valdez',\n",
       "  'lastname': 'Roberson',\n",
       "  'age': 40,\n",
       "  'gender': 'F',\n",
       "  'address': '227 Scholes Street',\n",
       "  'employer': 'Delphide',\n",
       "  'email': 'valdezroberson@delphide.com',\n",
       "  'city': 'Chilton',\n",
       "  'state': 'MT'},\n",
       " {'account_number': 948,\n",
       "  'balance': 37074,\n",
       "  'firstname': 'Sargent',\n",
       "  'lastname': 'Powers',\n",
       "  'age': 40,\n",
       "  'gender': 'M',\n",
       "  'address': '532 Fiske Place',\n",
       "  'employer': 'Accuprint',\n",
       "  'email': 'sargentpowers@accuprint.com',\n",
       "  'city': 'Umapine',\n",
       "  'state': 'AK'},\n",
       " {'account_number': 998,\n",
       "  'balance': 16869,\n",
       "  'firstname': 'Letha',\n",
       "  'lastname': 'Baker',\n",
       "  'age': 40,\n",
       "  'gender': 'F',\n",
       "  'address': '206 Llama Court',\n",
       "  'employer': 'Dognosis',\n",
       "  'email': 'lethabaker@dognosis.com',\n",
       "  'city': 'Dunlo',\n",
       "  'state': 'WV'},\n",
       " {'account_number': 40,\n",
       "  'balance': 33882,\n",
       "  'firstname': 'Pace',\n",
       "  'lastname': 'Molina',\n",
       "  'age': 40,\n",
       "  'gender': 'M',\n",
       "  'address': '263 Ovington Court',\n",
       "  'employer': 'Cytrak',\n",
       "  'email': 'pacemolina@cytrak.com',\n",
       "  'city': 'Silkworth',\n",
       "  'state': 'OR'},\n",
       " {'account_number': 165,\n",
       "  'balance': 18956,\n",
       "  'firstname': 'Sims',\n",
       "  'lastname': 'Mckay',\n",
       "  'age': 40,\n",
       "  'gender': 'F',\n",
       "  'address': '205 Jackson Street',\n",
       "  'employer': 'Comtour',\n",
       "  'email': 'simsmckay@comtour.com',\n",
       "  'city': 'Tilden',\n",
       "  'state': 'DC'},\n",
       " {'account_number': 177,\n",
       "  'balance': 48972,\n",
       "  'firstname': 'Harris',\n",
       "  'lastname': 'Gross',\n",
       "  'age': 40,\n",
       "  'gender': 'F',\n",
       "  'address': '468 Suydam Street',\n",
       "  'employer': 'Kidstock',\n",
       "  'email': 'harrisgross@kidstock.com',\n",
       "  'city': 'Yettem',\n",
       "  'state': 'KY'}]"
      ]
     },
     "execution_count": 17,
     "metadata": {},
     "output_type": "execute_result"
    }
   ],
   "source": [
    "q={ \"query\": {\n",
    "    \"bool\": {\n",
    "      \"must\": [\n",
    "        { \"match\": { \"age\": \"40\" } }\n",
    "      ],\n",
    "      \"must_not\": [\n",
    "        { \"match\": { \"state\": \"ID\" } }\n",
    "      ]\n",
    "    }\n",
    "  }}\n",
    "elastic_query(q)"
   ]
  },
  {
   "cell_type": "markdown",
   "metadata": {},
   "source": [
    "# Executing Queries with filters"
   ]
  },
  {
   "cell_type": "code",
   "execution_count": 18,
   "metadata": {},
   "outputs": [
    {
     "data": {
      "text/plain": [
       "[{'account_number': 359,\n",
       "  'balance': 29927,\n",
       "  'firstname': 'Vanessa',\n",
       "  'lastname': 'Harvey',\n",
       "  'age': 28,\n",
       "  'gender': 'F',\n",
       "  'address': '679 Rutledge Street',\n",
       "  'employer': 'Zentime',\n",
       "  'email': 'vanessaharvey@zentime.com',\n",
       "  'city': 'Williston',\n",
       "  'state': 'IL'},\n",
       " {'account_number': 196,\n",
       "  'balance': 29931,\n",
       "  'firstname': 'Caldwell',\n",
       "  'lastname': 'Daniel',\n",
       "  'age': 28,\n",
       "  'gender': 'F',\n",
       "  'address': '405 Oliver Street',\n",
       "  'employer': 'Furnigeer',\n",
       "  'email': 'caldwelldaniel@furnigeer.com',\n",
       "  'city': 'Zortman',\n",
       "  'state': 'NE'},\n",
       " {'account_number': 781,\n",
       "  'balance': 29961,\n",
       "  'firstname': 'Sanford',\n",
       "  'lastname': 'Mullen',\n",
       "  'age': 26,\n",
       "  'gender': 'F',\n",
       "  'address': '879 Dover Street',\n",
       "  'employer': 'Zanity',\n",
       "  'email': 'sanfordmullen@zanity.com',\n",
       "  'city': 'Martinez',\n",
       "  'state': 'TX'}]"
      ]
     },
     "execution_count": 18,
     "metadata": {},
     "output_type": "execute_result"
    }
   ],
   "source": [
    "# Get all documents whose balance between 29920-30000\n",
    "q={\"query\": {\n",
    "    \"bool\": {\n",
    "      \"must\": { \"match_all\": {} },\n",
    "      \"filter\": {\n",
    "        \"range\": {\n",
    "          \"balance\": {\n",
    "            \"gte\": 29920,\n",
    "            \"lte\": 30000\n",
    "          }}}}}}\n",
    "\n",
    "elastic_query(q)"
   ]
  },
  {
   "cell_type": "code",
   "execution_count": 20,
   "metadata": {},
   "outputs": [
    {
     "data": {
      "text/plain": [
       "[]"
      ]
     },
     "execution_count": 20,
     "metadata": {},
     "output_type": "execute_result"
    }
   ],
   "source": [
    "# Get all documents whose city is exactly martinez\n",
    "q={\"query\": {\n",
    "    \"bool\": {\n",
    "      \"must\": { \"match_all\": {}},\n",
    "      \"filter\": {\n",
    "        \"term\": {\n",
    "          \"city.raw\": \"martinez\"\n",
    "        }}}}}\n",
    "\n",
    "elastic_query(q)"
   ]
  },
  {
   "cell_type": "code",
   "execution_count": 21,
   "metadata": {},
   "outputs": [
    {
     "data": {
      "text/plain": [
       "[{'account_number': 781,\n",
       "  'balance': 29961,\n",
       "  'firstname': 'Sanford',\n",
       "  'lastname': 'Mullen',\n",
       "  'age': 26,\n",
       "  'gender': 'F',\n",
       "  'address': '879 Dover Street',\n",
       "  'employer': 'Zanity',\n",
       "  'email': 'sanfordmullen@zanity.com',\n",
       "  'city': 'Martinez',\n",
       "  'state': 'TX'}]"
      ]
     },
     "execution_count": 21,
     "metadata": {},
     "output_type": "execute_result"
    }
   ],
   "source": [
    "# Get all documents whose city is martinez #caseinsensitive\n",
    "q={\"query\": {\n",
    "    \"bool\": {\n",
    "      \"must\": { \"match_all\": {}},\n",
    "      \"filter\": {\n",
    "        \"term\": {\n",
    "          \"city\": \"martinez\"\n",
    "        }}}}}\n",
    "\n",
    "elastic_query(q)"
   ]
  },
  {
   "cell_type": "markdown",
   "metadata": {},
   "source": [
    "# Indexing via update\n",
    "\n",
    "Upsert!"
   ]
  },
  {
   "cell_type": "code",
   "execution_count": 147,
   "metadata": {},
   "outputs": [],
   "source": [
    "# we manually update some documents to add additional information\n",
    "UPDATES = [{\"_type\": \"_doc\",\n",
    "            \"_id\": \"1\",\n",
    "            \"_op_type\": \"update\",\n",
    "            \"doc\": {\"Facked\": True},\n",
    "            \"doc_as_upsert\":True\n",
    "           }]"
   ]
  },
  {
   "cell_type": "code",
   "execution_count": 148,
   "metadata": {},
   "outputs": [
    {
     "data": {
      "text/plain": [
       "(1, [])"
      ]
     },
     "execution_count": 148,
     "metadata": {},
     "output_type": "execute_result"
    }
   ],
   "source": [
    "helpers.bulk(es, UPDATES, index=\"bank\")"
   ]
  },
  {
   "cell_type": "code",
   "execution_count": 149,
   "metadata": {},
   "outputs": [
    {
     "data": {
      "text/plain": [
       "{'_index': 'bank',\n",
       " '_type': '_doc',\n",
       " '_id': '1',\n",
       " '_version': 2,\n",
       " '_seq_no': 1001,\n",
       " '_primary_term': 1,\n",
       " 'found': True,\n",
       " '_source': {'account_number': 1,\n",
       "  'balance': 39225,\n",
       "  'firstname': 'Amber',\n",
       "  'lastname': 'Duke',\n",
       "  'age': 32,\n",
       "  'gender': 'M',\n",
       "  'address': '880 Holmes Lane',\n",
       "  'employer': 'Pyrami',\n",
       "  'email': 'amberduke@pyrami.com',\n",
       "  'city': 'Brogan',\n",
       "  'state': 'IL',\n",
       "  'Facked': True}}"
      ]
     },
     "execution_count": 149,
     "metadata": {},
     "output_type": "execute_result"
    }
   ],
   "source": [
    "es.get(index=\"bank\", id=1)"
   ]
  }
 ],
 "metadata": {
  "kernelspec": {
   "display_name": "elastic",
   "language": "python",
   "name": "elastic"
  },
  "language_info": {
   "codemirror_mode": {
    "name": "ipython",
    "version": 3
   },
   "file_extension": ".py",
   "mimetype": "text/x-python",
   "name": "python",
   "nbconvert_exporter": "python",
   "pygments_lexer": "ipython3",
   "version": "3.7.3"
  }
 },
 "nbformat": 4,
 "nbformat_minor": 2
}
