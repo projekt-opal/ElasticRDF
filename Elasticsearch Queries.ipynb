{
 "cells": [
  {
   "cell_type": "code",
   "execution_count": 33,
   "metadata": {},
   "outputs": [],
   "source": [
    "from elasticsearch import Elasticsearch \n",
    "import util as ut\n",
    "from elasticsearch import helpers\n",
    "import time"
   ]
  },
  {
   "cell_type": "code",
   "execution_count": 34,
   "metadata": {},
   "outputs": [],
   "source": [
    "# Connect to the elastic cluster\n",
    "es=Elasticsearch([{'host':'localhost','port':9200}])"
   ]
  },
  {
   "cell_type": "code",
   "execution_count": 35,
   "metadata": {},
   "outputs": [
    {
     "data": {
      "text/plain": [
       "757392"
      ]
     },
     "execution_count": 35,
     "metadata": {},
     "output_type": "execute_result"
    }
   ],
   "source": [
    "es.count(index='opal_dataset')['count']"
   ]
  },
  {
   "cell_type": "code",
   "execution_count": 36,
   "metadata": {},
   "outputs": [
    {
     "data": {
      "text/plain": [
       "[{'http://www.w3.org/ns/dcat#mediaType': ['wms'],\n",
       "  'http://www.w3.org/ns/dcat#accessURL': ['http://pubblicazioni.provincia.fi.it/geoserver/wms?SERVICE=WMS'],\n",
       "  'http://www.w3.org/1999/02/22-rdf-syntax-ns#type': ['http://www.w3.org/ns/dcat#Distribution'],\n",
       "  'http://purl.org/dc/terms/format': ['http://publications.europa.eu/resource/authority/file-type/wms'],\n",
       "  'http://purl.org/dc/terms/title': ['infr_viabilita_centri_operativi'],\n",
       "  'http://purl.org/dc/terms/description': ['<p>Centri operativi di manutenzione delle strade</p>\\n'],\n",
       "  'http://purl.org/dc/terms/license': ['http://creativecommons.org/licenses/by/4.0/']}]"
      ]
     },
     "execution_count": 36,
     "metadata": {},
     "output_type": "execute_result"
    }
   ],
   "source": [
    "# Get first  document\n",
    "q={\"query\": { \"match_all\": {} },\n",
    "   \"size\": 1}\n",
    "\n",
    "elastic_query(es,q,selected_index='opal_distribution')"
   ]
  },
  {
   "cell_type": "code",
   "execution_count": 39,
   "metadata": {},
   "outputs": [
    {
     "data": {
      "text/plain": [
       "[{'http://www.w3.org/1999/02/22-rdf-syntax-ns#type': ['http://www.w3.org/ns/dqv#qualityMeasurement'],\n",
       "  'http://www.w3.org/ns/dqv#value': ['0.0'],\n",
       "  'http://www.w3.org/ns/dqv#isMeasurementOf': ['http://metric.projekt-opal.de/KnownLicense']}]"
      ]
     },
     "execution_count": 39,
     "metadata": {},
     "output_type": "execute_result"
    }
   ],
   "source": [
    "elastic_query(es,q,selected_index='opal_measurements')"
   ]
  },
  {
   "cell_type": "code",
   "execution_count": 38,
   "metadata": {},
   "outputs": [],
   "source": [
    "#elastic_query(q,selected_index='opal_dataset')"
   ]
  },
  {
   "cell_type": "code",
   "execution_count": 40,
   "metadata": {},
   "outputs": [],
   "source": [
    "#es.indices.get_mapping(index='opal_distribution')['opal_distribution']['mappings']['properties']"
   ]
  },
  {
   "cell_type": "code",
   "execution_count": 41,
   "metadata": {
    "scrolled": false
   },
   "outputs": [],
   "source": [
    "#es.indices.get_mapping(index='opal_dataset')['opal_dataset']['mappings']['properties']"
   ]
  },
  {
   "cell_type": "code",
   "execution_count": 42,
   "metadata": {},
   "outputs": [],
   "source": [
    "#es.get(index=\"opal_dataset\", id=\"http://projekt-opal.de/dataset/https___europeandataportal_eu_set_data_ba74f2bf_e271_4e92_8b81_c97a9e65fc83\")['_source']"
   ]
  },
  {
   "cell_type": "code",
   "execution_count": 43,
   "metadata": {},
   "outputs": [],
   "source": [
    "def elastic_query(q,selected_index):\n",
    "    hits=es.search(index=selected_index,body=q)['hits']['hits']\n",
    "    return [i['_source'] for i in hits]"
   ]
  },
  {
   "cell_type": "code",
   "execution_count": 46,
   "metadata": {
    "scrolled": false
   },
   "outputs": [
    {
     "data": {
      "text/plain": [
       "[{'http://www.w3.org/1999/02/22-rdf-syntax-ns#type': ['http://www.w3.org/ns/dcat#Dataset'],\n",
       "  'http://www.w3.org/ns/dqv#hasQualityMeasurement': ['http://projekt-opal.de/measurement2071487',\n",
       "   'http://projekt-opal.de/measurement2071483',\n",
       "   'http://projekt-opal.de/measurement2071489',\n",
       "   'http://projekt-opal.de/measurement2071485',\n",
       "   'http://projekt-opal.de/measurement2071488',\n",
       "   'http://projekt-opal.de/measurement2071486',\n",
       "   'http://projekt-opal.de/measurement2071484'],\n",
       "  'http://purl.org/dc/terms/title': ['DDT05 - Zones maximales de dégagement liées aux servitudes T5 (Aérodromes) des Hautes-Alpes'],\n",
       "  'http://www.w3.org/ns/dcat#keyword': ['donnees-ouvertes',\n",
       "   'planning-cadastre',\n",
       "   'passerelle-inspire'],\n",
       "  'http://www.w3.org/ns/dcat#distribution': ['http://projekt-opal.de/distribution/https___europeandataportal_eu_set_distribution_5ea33408_6b28_475a_80e0_a5aa404c65ae',\n",
       "   'http://projekt-opal.de/distribution/https___europeandataportal_eu_set_distribution_871235b4_ee34_4840_b969_1c0b1900b269',\n",
       "   'http://projekt-opal.de/distribution/https___europeandataportal_eu_set_distribution_29f9e9a3_e2fd_4504_8a58_6e6d7906d592'],\n",
       "  'http://xmlns.com/foaf/0.1/page': ['https://www.data.gouv.fr/fr/datasets/ddt05-zones-maximales-de-degagement-liees-aux-servitudes-t5-aerodromes-des-hautes-alpes-1/'],\n",
       "  'http://purl.org/dc/terms/description': ['Les servitudes T5 sont instituées en application des articles L. 6351-1 et L. 6351-2 à L. 6351-5 du Code des transports (anciens R. 241-1 à R. 242-3 du Code de l&#x27;aviation civile).Il s&#x27;agit de servitudes, dites « servitudes aéronautiques de dégagement », créées afin d&#x27;assurer la sécurité de la circulationdes aéronefs, à l&#x27;exclusion des servitudes radioélectriques. Elles sont définies :- par un plan de servitudes aéronautiques de dégagement (PSA) établi pour chaque aérodrome visé à l&#x27;article L. 6350-1 du Code des transports (ancien R. 241-2 du Code de l&#x27;aviation civile),- ou par des mesures provisoires de sauvegarde qui peuvent être mises en oeuvre en cas d&#x27;urgence, avant d&#x27;être reprises dans un PSA approuvé.Ces servitudes aéronautiques de dégagement comportent :- l&#x27;interdiction de créer ou l&#x27;obligation de modifier, voire de supprimer, des obstacles susceptibles de constituer un danger pour la circulation aérienne ou nuisibles au fonctionnement des dispositifs de sécurité (lumineux, radioélectriques ou météorologiques) établis dans l&#x27;intérêt de la navigation aérienne,- l&#x27;interdiction de réaliser sur les bâtiments et autres ouvrages frappés de servitude aéronautiques des travaux de grosses réparations ou d&#x27;amélioration exemptés du permis de construire sans autorisation de l&#x27;autorité administrative.Sont concernés au titre de la servitude T5 :- tous les aérodromes ouverts à la circulation aérienne publique,- les aérodromes à usage restreint créés par l&#x27;État,- dans des conditions fixées par voie réglementaire, certains aérodromes à usage restreint créés par une personne autre que l&#x27;État.Les générateurs sont liés aux infrastructures telles que prévues pour le stade ultime de développement de l&#x27;aérodrome, à savoir le système de piste(s), la (ou les) aires d&#x27;approche finale et de décollage à l&#x27;usage exclusif d&#x27;hélicoptères, les aides visuelles le cas échéant.L&#x27;assiette d&#x27;une servitude est le champ spatial (autrement dit, la zone géographique) à l&#x27;intérieur duquel s&#x27;applique la servitude. Ce champ spatial peut être défini soit en 2D, soit en 3D notamment dans les cas particuliers des servitudes de dégagement des aéroports, des servitudes de protection des centres de transmission radioélectrique.\\n\\n__Origine__\\n\\nSource thématique : état du patrimoine des données géographiques utilisées dans le porter-à-connaissance de l&#x27;Etat\\n\\n\\n__Organisations partenaires__\\n\\nDDT Hautes-Alpes\\n\\n__Liens annexes__\\n\\n * [Vue XML des métadonnées](http://ogc.geo-ide.developpement-durable.gouv.fr/csw/all-dataset?REQUEST&#x3D;GetRecordById&amp;SERVICE&#x3D;CSW&amp;VERSION&#x3D;2.0.2&amp;RESULTTYPE&#x3D;results&amp;elementSetName&#x3D;full&amp;TYPENAMES&#x3D;gmd:MD_Metadata&amp;OUTPUTSCHEMA&#x3D;http://www.isotc211.org/2005/gmd&amp;ID&#x3D;fr-120066022-jdd-5147ce13-b88b-47f4-8073-de5c8d8809ae)\\n * [Standard de données COVADIS : Zones maximales de dégagement liées aux servitudes T5 (Aérodromes)](http://geostandards.developpement-durable.gouv.fr/afficherPageStandard.do?jeu&#x3D;N_T5_ASSIETTE_SUP_S)\\n * [URL de base des services wms/wfs sur internet](http://ogc.geo-ide.developpement-durable.gouv.fr/wxs?map&#x3D;/opt/data/carto/geoide-catalogue/1.4/org_37950/f6859605-ecab-43e0-bd87-7f53dabf9987.internet.map)\\n\\n➞ [Consulter cette fiche sur geo.data.gouv.fr](https://geo.data.gouv.fr/fr/datasets/902c1833b32499dae34cd4c9dd89aed39bc8e10c)'],\n",
       "  'http://purl.org/dc/terms/publisher': ['fbe541d172b104fa2ac6a3b5657296be0b1',\n",
       "   'fbe541d172b104fa2ac6a3b5657296be0b2'],\n",
       "  'http://purl.org/dc/terms/accrualPeriodicity': ['http://publications.europa.eu/resource/authority/frequency/UNKNOWN']}]"
      ]
     },
     "execution_count": 46,
     "metadata": {},
     "output_type": "execute_result"
    }
   ],
   "source": [
    "# Get all document whose address field contains  mill AND lane\n",
    "q={\"query\": { \n",
    "    \"bool\":{\n",
    "        \"must\":[ \n",
    "            {\"match\": { \"http://purl.org/dc/terms/description\": \"transports\" }},\n",
    "            {\"match\": { \"http://purl.org/dc/terms/description\": \"conditions\" }},\n",
    "            {\"match\":{'http://www.w3.org/ns/dqv#hasQualityMeasurement':\"http://projekt-opal.de/measurement2071486\"}}\n",
    "        ]\n",
    "        }\n",
    "    }}\n",
    "\n",
    "\n",
    "elastic_query(q,selected_index='opal_dataset')"
   ]
  }
 ],
 "metadata": {
  "kernelspec": {
   "display_name": "elastic",
   "language": "python",
   "name": "elastic"
  },
  "language_info": {
   "codemirror_mode": {
    "name": "ipython",
    "version": 3
   },
   "file_extension": ".py",
   "mimetype": "text/x-python",
   "name": "python",
   "nbconvert_exporter": "python",
   "pygments_lexer": "ipython3",
   "version": "3.7.3"
  },
  "pycharm": {
   "stem_cell": {
    "cell_type": "raw",
    "source": [],
    "metadata": {
     "collapsed": false
    }
   }
  }
 },
 "nbformat": 4,
 "nbformat_minor": 2
}