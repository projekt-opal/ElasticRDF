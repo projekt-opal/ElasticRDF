{
 "cells": [
  {
   "cell_type": "code",
   "execution_count": 1,
   "metadata": {},
   "outputs": [],
   "source": [
    "from elasticsearch import Elasticsearch \n",
    "import util as ut\n",
    "from elasticsearch import helpers"
   ]
  },
  {
   "cell_type": "code",
   "execution_count": 2,
   "metadata": {},
   "outputs": [],
   "source": [
    "# Connect to the elastic cluster\n",
    "es=Elasticsearch([{'host':'localhost','port':9200}])"
   ]
  },
  {
   "cell_type": "code",
   "execution_count": 5,
   "metadata": {},
   "outputs": [
    {
     "data": {
      "text/plain": [
       "{'acknowledged': True,\n",
       " 'shards_acknowledged': True,\n",
       " 'index': 'opal_measurements'}"
      ]
     },
     "execution_count": 5,
     "metadata": {},
     "output_type": "execute_result"
    }
   ],
   "source": [
    "es.indices.create(index='opal_dataset')\n",
    "es.indices.create(index='opal_distribution')\n",
    "es.indices.create(index='opal_measurements')"
   ]
  },
  {
   "cell_type": "markdown",
   "metadata": {},
   "source": [
    "# Indexing pipeline"
   ]
  },
  {
   "cell_type": "code",
   "execution_count": 8,
   "metadata": {
    "scrolled": true
   },
   "outputs": [
    {
     "name": "stdout",
     "output_type": "stream",
     "text": [
      "Size of Dcat:Dataset 200000\n",
      "Size of Dcat:Dataset 200942\n",
      "Size of Dcat:Dataset 202000\n",
      "Size of Dcat:Dataset 202851\n",
      "Size of Dcat:Dataset 203976\n"
     ]
    }
   ],
   "source": [
    "offset=200000\n",
    "num_of_sparql_query=1000\n",
    "\n",
    "for _ in range(5): \n",
    "    \n",
    "    print('Size of Dcat:Dataset {0}'.format(es.count(index='opal_dataset')['count']))\n",
    "    \n",
    "    \n",
    "    sparqls=ut.generate_sparql_queries(offset=offset,num_query=num_of_sparql_query)\n",
    "    offset+=num_of_sparql_query\n",
    "    \n",
    "    results=ut.submit_generated_sparql(sparqls)\n",
    "    \n",
    "    # number of queries must match\n",
    "    assert len(results)==num_of_sparql_query\n",
    "    \n",
    "    \n",
    "    try:\n",
    "        document_index,dist_index,measures_index=ut.response_processer(results)\n",
    "    except TypeError as tyerr:\n",
    "        print('Response not successful')\n",
    "        print(\"error: {0}\".format(err))\n",
    "        break\n",
    "        \n",
    "    \n",
    "    \n",
    "    helpers.bulk(es, ut.gendata('opal_dataset',document_index))\n",
    "    helpers.bulk(es, ut.gendata('opal_distribution',dist_index))\n",
    "    helpers.bulk(es, ut.gendata('opal_measurements',measures_index))"
   ]
  },
  {
   "cell_type": "code",
   "execution_count": 9,
   "metadata": {},
   "outputs": [
    {
     "data": {
      "text/plain": [
       "205000"
      ]
     },
     "execution_count": 9,
     "metadata": {},
     "output_type": "execute_result"
    }
   ],
   "source": [
    "offset"
   ]
  },
  {
   "cell_type": "markdown",
   "metadata": {},
   "source": [
    "# NOTE\n",
    "\n",
    "URIs should be shortened.\n",
    "\n",
    "#### RequestError(400, 'action_request_validation_exception', 'Validation Failed: 1: id is too long, must be no longer than 512 bytes but was: 653;2"
   ]
  },
  {
   "cell_type": "code",
   "execution_count": null,
   "metadata": {},
   "outputs": [],
   "source": []
  }
 ],
 "metadata": {
  "kernelspec": {
   "display_name": "elastic",
   "language": "python",
   "name": "elastic"
  },
  "language_info": {
   "codemirror_mode": {
    "name": "ipython",
    "version": 3
   },
   "file_extension": ".py",
   "mimetype": "text/x-python",
   "name": "python",
   "nbconvert_exporter": "python",
   "pygments_lexer": "ipython3",
   "version": "3.7.3"
  }
 },
 "nbformat": 4,
 "nbformat_minor": 2
}
