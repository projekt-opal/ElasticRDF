{
 "cells": [
  {
   "cell_type": "code",
   "execution_count": 1,
   "metadata": {
    "pycharm": {
     "is_executing": false
    }
   },
   "outputs": [],
   "source": [
    "from elasticsearch import Elasticsearch \n",
    "import util as ut\n",
    "from elasticsearch import helpers\n",
    "from rdflib import Graph\n",
    "import collections"
   ]
  },
  {
   "cell_type": "code",
   "execution_count": 2,
   "metadata": {},
   "outputs": [],
   "source": [
    "# Connect to the elastic cluster\n",
    "es=Elasticsearch([{'host':'localhost','port':9200}])"
   ]
  },
  {
   "cell_type": "code",
   "execution_count": 91,
   "metadata": {},
   "outputs": [
    {
     "data": {
      "text/plain": [
       "{'.monitoring-es-7-2019.06.05': {'aliases': {}},\n",
       " '.monitoring-kibana-7-2019.06.05': {'aliases': {}},\n",
       " 'rdf': {'aliases': {}},\n",
       " '.kibana_task_manager': {'aliases': {}},\n",
       " '.monitoring-kibana-7-2019.06.06': {'aliases': {}},\n",
       " '.kibana_1': {'aliases': {'.kibana': {}}},\n",
       " '.monitoring-es-7-2019.06.06': {'aliases': {}}}"
      ]
     },
     "execution_count": 91,
     "metadata": {},
     "output_type": "execute_result"
    }
   ],
   "source": [
    "# get all indexes\n",
    "es.indices.get_alias(\"*\")"
   ]
  },
  {
   "cell_type": "code",
   "execution_count": 92,
   "metadata": {},
   "outputs": [],
   "source": [
    "#if es.indices.exists(index='rdf'):\n",
    "#es.indices.delete(index='opal_distribution')\n",
    "#es.indices.delete(index='opal_dataset')"
   ]
  },
  {
   "cell_type": "markdown",
   "metadata": {},
   "source": [
    "### Create index for dcat:Dataset"
   ]
  },
  {
   "cell_type": "code",
   "execution_count": 93,
   "metadata": {},
   "outputs": [
    {
     "data": {
      "text/plain": [
       "'create_dcat_dataset_index_body = {\\n    \"settings\": {\\n        \"number_of_shards\": 1,# for distributed indexing.\\n        \"number_of_replicas\": 0},\\n    \"mappings\": {\\n            \"properties\": {\\n                \"title\": {\"type\": \"text\"},\\n                \"description\": {\"type\": \"text\"},\\n                \"issued\": {\"type\": \"text\"},#date\\n                \"modified\":{\"type\":\"date\"},\\n                \"identifier\":{\"type\":\"keyword\"}, \\n                \"keyword\":{\"type\":\"text\"}, \\n                \"language\":{\"type\":\"keyword\"},\\n                \"accrualPeriodicity\":{\"type\":\"keyword\"},\\n                \"theme\":{\"type\":\"keyword\"},\\n                \"hasQualityMeasurement\":{\"type\":\"keyword\"}\\n            }\\n    } \\n}\\ncreate_dcat_distribution_index_body = {\\n    \"settings\": {\\n        \"number_of_shards\": 1,# for distributed indexing.\\n        \"number_of_replicas\": 0},\\n    \"mappings\": {\\n            \"properties\": {\\n                \"title\": {\"type\": \"text\"},\\n                \"description\": {\"type\": \"text\"},\\n                \"issued\": {\"type\": \"text\"},#date\\n                \"issued\": {\"type\": \"date\",\\n                          \"format\":\"E, dd MMM YYY etc..\"},#date\\n                \\n                \"modified\":{\"type\":\"date\"},\\n                \"rights\":{\"type\":\"keyword\"},\\n                \"license\":{\"type\":\"keyword\"},\\n                \"accessURL\":{\"type\":\"keyword\"},\\n                \"mediaType\":{\"type\":\"keyword\"},\\n                \"byteSize\":{\"type\":\"integer\"},\\n            }\\n    } \\n}\\nes.indices.create(index=\\'opal_dataset\\', body=create_dcat_dataset_index_body)\\nes.indices.create(index=\\'opal_distribution\\', body=create_dcat_distribution_index_body)'"
      ]
     },
     "execution_count": 93,
     "metadata": {},
     "output_type": "execute_result"
    }
   ],
   "source": [
    "'''create_dcat_dataset_index_body = {\n",
    "    \"settings\": {\n",
    "        \"number_of_shards\": 1,# for distributed indexing.\n",
    "        \"number_of_replicas\": 0},\n",
    "    \"mappings\": {\n",
    "            \"properties\": {\n",
    "                \"title\": {\"type\": \"text\"},\n",
    "                \"description\": {\"type\": \"text\"},\n",
    "                \"issued\": {\"type\": \"text\"},#date\n",
    "                \"modified\":{\"type\":\"date\"},\n",
    "                \"identifier\":{\"type\":\"keyword\"}, \n",
    "                \"keyword\":{\"type\":\"text\"}, \n",
    "                \"language\":{\"type\":\"keyword\"},\n",
    "                \"accrualPeriodicity\":{\"type\":\"keyword\"},\n",
    "                \"theme\":{\"type\":\"keyword\"},\n",
    "                \"hasQualityMeasurement\":{\"type\":\"keyword\"}\n",
    "            }\n",
    "    } \n",
    "}\n",
    "create_dcat_distribution_index_body = {\n",
    "    \"settings\": {\n",
    "        \"number_of_shards\": 1,# for distributed indexing.\n",
    "        \"number_of_replicas\": 0},\n",
    "    \"mappings\": {\n",
    "            \"properties\": {\n",
    "                \"title\": {\"type\": \"text\"},\n",
    "                \"description\": {\"type\": \"text\"},\n",
    "                \"issued\": {\"type\": \"text\"},#date\n",
    "                \"issued\": {\"type\": \"date\",\n",
    "                          \"format\":\"E, dd MMM YYY etc..\"},#date\n",
    "                \n",
    "                \"modified\":{\"type\":\"date\"},\n",
    "                \"rights\":{\"type\":\"keyword\"},\n",
    "                \"license\":{\"type\":\"keyword\"},\n",
    "                \"accessURL\":{\"type\":\"keyword\"},\n",
    "                \"mediaType\":{\"type\":\"keyword\"},\n",
    "                \"byteSize\":{\"type\":\"integer\"},\n",
    "            }\n",
    "    } \n",
    "}\n",
    "es.indices.create(index='opal_dataset', body=create_dcat_dataset_index_body)\n",
    "es.indices.create(index='opal_distribution', body=create_dcat_distribution_index_body)'''"
   ]
  },
  {
   "cell_type": "code",
   "execution_count": 94,
   "metadata": {},
   "outputs": [
    {
     "data": {
      "text/plain": [
       "{'acknowledged': True,\n",
       " 'shards_acknowledged': True,\n",
       " 'index': 'opal_distribution'}"
      ]
     },
     "execution_count": 94,
     "metadata": {},
     "output_type": "execute_result"
    }
   ],
   "source": [
    "es.indices.create(index='opal_dataset')\n",
    "es.indices.create(index='opal_distribution')"
   ]
  },
  {
   "cell_type": "code",
   "execution_count": 95,
   "metadata": {},
   "outputs": [
    {
     "data": {
      "text/plain": [
       "<Graph identifier=N3bfbfebcd4e34f229a5d8df1c80cea75 (<class 'rdflib.graph.Graph'>)>"
      ]
     },
     "execution_count": 95,
     "metadata": {},
     "output_type": "execute_result"
    }
   ],
   "source": [
    "g = Graph()\n",
    "g.parse(\"KG/10000.nt\", format=\"n3\")\n",
    "#g.parse(\"/home/demir/Desktop/10000dataset.nt\", format=\"n3\")"
   ]
  },
  {
   "cell_type": "code",
   "execution_count": 98,
   "metadata": {},
   "outputs": [
    {
     "data": {
      "text/plain": [
       "'100001 number of triples'"
      ]
     },
     "execution_count": 98,
     "metadata": {},
     "output_type": "execute_result"
    }
   ],
   "source": [
    "'{0} number of triples'.format(len(g))"
   ]
  },
  {
   "cell_type": "code",
   "execution_count": 99,
   "metadata": {},
   "outputs": [],
   "source": [
    "prefix_uri='http://projekt-opal.de/'\n",
    "#profiles=['dataset/','distribution/']\n",
    "profiles=[prefix_uri+'dataset/',prefix_uri+'distribution/']"
   ]
  },
  {
   "cell_type": "code",
   "execution_count": null,
   "metadata": {},
   "outputs": [],
   "source": []
  },
  {
   "cell_type": "code",
   "execution_count": 100,
   "metadata": {},
   "outputs": [],
   "source": [
    "dataset_documents=dict()\n",
    "distribution_documents=dict()\n",
    "\n",
    "for t in g:\n",
    "    s,p,o=str(t[0]),str(t[1]),str(t[2])\n",
    "    \n",
    "    if profiles[0] in s:\n",
    "        # Important\n",
    "        dataset_documents.setdefault(s, {}).setdefault(p,[]).append(o)\n",
    "    elif profiles[1] in s:\n",
    "        # Important\n",
    "        distribution_documents.setdefault(s, {}).setdefault(p,[]).append(o)\n",
    "    else:\n",
    "        continue"
   ]
  },
  {
   "cell_type": "code",
   "execution_count": 101,
   "metadata": {},
   "outputs": [],
   "source": [
    "for dataset_uri,body in dataset_documents.items():\n",
    "    es.create(index='opal_dataset',body=body,id=dataset_uri)\n",
    "    "
   ]
  },
  {
   "cell_type": "code",
   "execution_count": 102,
   "metadata": {},
   "outputs": [],
   "source": [
    "for dataset_uri,body in distribution_documents.items():\n",
    "    es.create(index='opal_distribution',body=body,id=dataset_uri)\n",
    "    "
   ]
  },
  {
   "cell_type": "code",
   "execution_count": 103,
   "metadata": {},
   "outputs": [],
   "source": [
    "def print_search_stats(results):\n",
    "    print(\"=\" * 80)\n",
    "    print(\n",
    "        \"Total %d found in %dms\" % (results[\"hits\"][\"total\"][\"value\"], results[\"took\"])\n",
    "    )\n",
    "    print(\"-\" * 80)"
   ]
  },
  {
   "cell_type": "markdown",
   "metadata": {},
   "source": [
    "### Example Queries "
   ]
  },
  {
   "cell_type": "code",
   "execution_count": 107,
   "metadata": {},
   "outputs": [
    {
     "name": "stdout",
     "output_type": "stream",
     "text": [
      "{'count': 1250, '_shards': {'total': 1, 'successful': 1, 'skipped': 0, 'failed': 0}}\n",
      "{'count': 2204, '_shards': {'total': 1, 'successful': 1, 'skipped': 0, 'failed': 0}}\n"
     ]
    }
   ],
   "source": [
    "# to get the number of documents\n",
    "print(es.count(index='opal_dataset'))\n",
    "\n",
    "print(es.count(index='opal_distribution'))\n",
    "# gets all documents\n",
    "#es.search(index=\"opal_dataset\")"
   ]
  },
  {
   "cell_type": "code",
   "execution_count": 162,
   "metadata": {},
   "outputs": [
    {
     "name": "stdout",
     "output_type": "stream",
     "text": [
      "================================================================================\n",
      "Total 70 found in 2ms\n",
      "--------------------------------------------------------------------------------\n"
     ]
    }
   ],
   "source": [
    "# Search for documents whose description contains framework\n",
    "result=es.search(index='opal_dataset',\n",
    "         body={\n",
    "             \"query\":{\n",
    "                 \"bool\":{\n",
    "                     \"must\":{\"match\":{\"http://purl.org/dc/terms/description\":\"@fr\"}}\n",
    "                 }\n",
    "             }\n",
    "         })\n",
    "\n",
    "print_search_stats(result)"
   ]
  },
  {
   "cell_type": "code",
   "execution_count": 161,
   "metadata": {},
   "outputs": [
    {
     "data": {
      "text/plain": [
       "['http://www.w3.org/ns/dqv#hasQualityMeasurement',\n",
       " 'http://purl.org/dc/terms/spatial',\n",
       " 'http://www.w3.org/ns/dcat#keyword',\n",
       " 'http://www.w3.org/ns/dcat#distribution',\n",
       " 'http://purl.org/dc/terms/description',\n",
       " 'http://www.w3.org/ns/dcat#theme',\n",
       " 'http://purl.org/dc/terms/title',\n",
       " 'http://www.w3.org/1999/02/22-rdf-syntax-ns#type']"
      ]
     },
     "execution_count": 161,
     "metadata": {},
     "output_type": "execute_result"
    }
   ],
   "source": [
    "list(result['hits']['hits'][0]['_source'].keys())"
   ]
  },
  {
   "cell_type": "code",
   "execution_count": 140,
   "metadata": {},
   "outputs": [],
   "source": [
    "hits_docs=result['hits']['hits']"
   ]
  },
  {
   "cell_type": "code",
   "execution_count": 152,
   "metadata": {},
   "outputs": [
    {
     "name": "stdout",
     "output_type": "stream",
     "text": [
      "{'_index': 'opal_distribution', '_type': '_doc', '_id': 'http://projekt-opal.de/distribution/https___europeandataportal_eu_set_distribution_4f55bce7_405c_4ff7_83f7_1744c7bfb0b6', '_version': 1, '_seq_no': 1977, '_primary_term': 1, 'found': True, '_source': {'http://purl.org/dc/terms/description': [''], 'http://www.w3.org/1999/02/22-rdf-syntax-ns#type': ['http://www.w3.org/ns/dcat#Distribution'], 'http://purl.org/dc/terms/title': ['view'], 'http://www.w3.org/ns/dcat#accessURL': ['http://ext-geodata.lansstyrelsen.se/arcgis/services/WMS/LST_wms_miljodata/MapServer/WMSserver?']}}\n"
     ]
    }
   ],
   "source": [
    "for i in hits_docs:\n",
    "    \n",
    "    index=i['_id']\n",
    "    \n",
    "    \n",
    "  #  description=i['_source']['http://purl.org/dc/terms/description']\n",
    " #   print(index)\n",
    "#    print(description)\n",
    "    distribution=i['_source']['http://www.w3.org/ns/dcat#distribution'][0]\n",
    "   \n",
    "    resp = es.get(index='opal_distribution', id=distribution)\n",
    "    print(resp)\n",
    "\n",
    "    break"
   ]
  },
  {
   "cell_type": "code",
   "execution_count": 163,
   "metadata": {},
   "outputs": [
    {
     "name": "stdout",
     "output_type": "stream",
     "text": [
      "================================================================================\n",
      "Total 70 found in 2ms\n",
      "--------------------------------------------------------------------------------\n"
     ]
    }
   ],
   "source": [
    "# Search for documents whose description contains framework\n",
    "result=es.search(index='opal_dataset',\n",
    "         body={\n",
    "             \"query\":{\n",
    "                 \"bool\":{\n",
    "                     \"must\":{\"match\":{\"http://purl.org/dc/terms/description\":\" @fr\"}}\n",
    "                 }\n",
    "             }\n",
    "         })\n",
    "\n",
    "print_search_stats(result)"
   ]
  },
  {
   "cell_type": "code",
   "execution_count": null,
   "metadata": {},
   "outputs": [],
   "source": []
  }
 ],
 "metadata": {
  "kernelspec": {
   "display_name": "elastic",
   "language": "python",
   "name": "elastic"
  },
  "language_info": {
   "codemirror_mode": {
    "name": "ipython",
    "version": 3
   },
   "file_extension": ".py",
   "mimetype": "text/x-python",
   "name": "python",
   "nbconvert_exporter": "python",
   "pygments_lexer": "ipython3",
   "version": "3.7.3"
  }
 },
 "nbformat": 4,
 "nbformat_minor": 2
}
