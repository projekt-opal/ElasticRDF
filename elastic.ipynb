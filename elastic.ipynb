{
 "cells": [
  {
   "cell_type": "code",
   "execution_count": 1,
   "metadata": {
    "pycharm": {
     "is_executing": false
    }
   },
   "outputs": [],
   "source": [
    "from elasticsearch import Elasticsearch \n",
    "import util as ut\n",
    "from elasticsearch import helpers\n",
    "from rdflib import Graph\n",
    "import collections"
   ]
  },
  {
   "cell_type": "code",
   "execution_count": 9,
   "metadata": {},
   "outputs": [],
   "source": [
    "# Connect to the elastic cluster\n",
    "es=Elasticsearch([{'host':'localhost','port':9200}])"
   ]
  },
  {
   "cell_type": "code",
   "execution_count": 16,
   "metadata": {},
   "outputs": [
    {
     "data": {
      "text/plain": [
       "{'rdf': {'aliases': {}},\n",
       " '.monitoring-es-7-2019.06.06': {'aliases': {}},\n",
       " 'opal_dataset': {'aliases': {}},\n",
       " '.kibana_1': {'aliases': {'.kibana': {}}},\n",
       " 'opal_distribution': {'aliases': {}},\n",
       " '.kibana_task_manager': {'aliases': {}},\n",
       " '.monitoring-es-7-2019.06.18': {'aliases': {}}}"
      ]
     },
     "execution_count": 16,
     "metadata": {},
     "output_type": "execute_result"
    }
   ],
   "source": [
    "# get all indexes\n",
    "es.indices.get_alias(\"*\")"
   ]
  },
  {
   "cell_type": "code",
   "execution_count": 92,
   "metadata": {},
   "outputs": [],
   "source": [
    "#if es.indices.exists(index='rdf'):\n",
    "#es.indices.delete(index='opal_distribution')\n",
    "#es.indices.delete(index='opal_dataset')"
   ]
  },
  {
   "cell_type": "markdown",
   "metadata": {},
   "source": [
    "### Create index for dcat:Dataset"
   ]
  },
  {
   "cell_type": "code",
   "execution_count": 93,
   "metadata": {},
   "outputs": [
    {
     "data": {
      "text/plain": [
       "'create_dcat_dataset_index_body = {\\n    \"settings\": {\\n        \"number_of_shards\": 1,# for distributed indexing.\\n        \"number_of_replicas\": 0},\\n    \"mappings\": {\\n            \"properties\": {\\n                \"title\": {\"type\": \"text\"},\\n                \"description\": {\"type\": \"text\"},\\n                \"issued\": {\"type\": \"text\"},#date\\n                \"modified\":{\"type\":\"date\"},\\n                \"identifier\":{\"type\":\"keyword\"}, \\n                \"keyword\":{\"type\":\"text\"}, \\n                \"language\":{\"type\":\"keyword\"},\\n                \"accrualPeriodicity\":{\"type\":\"keyword\"},\\n                \"theme\":{\"type\":\"keyword\"},\\n                \"hasQualityMeasurement\":{\"type\":\"keyword\"}\\n            }\\n    } \\n}\\ncreate_dcat_distribution_index_body = {\\n    \"settings\": {\\n        \"number_of_shards\": 1,# for distributed indexing.\\n        \"number_of_replicas\": 0},\\n    \"mappings\": {\\n            \"properties\": {\\n                \"title\": {\"type\": \"text\"},\\n                \"description\": {\"type\": \"text\"},\\n                \"issued\": {\"type\": \"text\"},#date\\n                \"issued\": {\"type\": \"date\",\\n                          \"format\":\"E, dd MMM YYY etc..\"},#date\\n                \\n                \"modified\":{\"type\":\"date\"},\\n                \"rights\":{\"type\":\"keyword\"},\\n                \"license\":{\"type\":\"keyword\"},\\n                \"accessURL\":{\"type\":\"keyword\"},\\n                \"mediaType\":{\"type\":\"keyword\"},\\n                \"byteSize\":{\"type\":\"integer\"},\\n            }\\n    } \\n}\\nes.indices.create(index=\\'opal_dataset\\', body=create_dcat_dataset_index_body)\\nes.indices.create(index=\\'opal_distribution\\', body=create_dcat_distribution_index_body)'"
      ]
     },
     "execution_count": 93,
     "metadata": {},
     "output_type": "execute_result"
    }
   ],
   "source": [
    "'''create_dcat_dataset_index_body = {\n",
    "    \"settings\": {\n",
    "        \"number_of_shards\": 1,# for distributed indexing.\n",
    "        \"number_of_replicas\": 0},\n",
    "    \"mappings\": {\n",
    "            \"properties\": {\n",
    "                \"title\": {\"type\": \"text\"},\n",
    "                \"description\": {\"type\": \"text\"},\n",
    "                \"issued\": {\"type\": \"text\"},#date\n",
    "                \"modified\":{\"type\":\"date\"},\n",
    "                \"identifier\":{\"type\":\"keyword\"}, \n",
    "                \"keyword\":{\"type\":\"text\"}, \n",
    "                \"language\":{\"type\":\"keyword\"},\n",
    "                \"accrualPeriodicity\":{\"type\":\"keyword\"},\n",
    "                \"theme\":{\"type\":\"keyword\"},\n",
    "                \"hasQualityMeasurement\":{\"type\":\"keyword\"}\n",
    "            }\n",
    "    } \n",
    "}\n",
    "create_dcat_distribution_index_body = {\n",
    "    \"settings\": {\n",
    "        \"number_of_shards\": 1,# for distributed indexing.\n",
    "        \"number_of_replicas\": 0},\n",
    "    \"mappings\": {\n",
    "            \"properties\": {\n",
    "                \"title\": {\"type\": \"text\"},\n",
    "                \"description\": {\"type\": \"text\"},\n",
    "                \"issued\": {\"type\": \"text\"},#date\n",
    "                \"issued\": {\"type\": \"date\",\n",
    "                          \"format\":\"E, dd MMM YYY etc..\"},#date\n",
    "                \n",
    "                \"modified\":{\"type\":\"date\"},\n",
    "                \"rights\":{\"type\":\"keyword\"},\n",
    "                \"license\":{\"type\":\"keyword\"},\n",
    "                \"accessURL\":{\"type\":\"keyword\"},\n",
    "                \"mediaType\":{\"type\":\"keyword\"},\n",
    "                \"byteSize\":{\"type\":\"integer\"},\n",
    "            }\n",
    "    } \n",
    "}\n",
    "es.indices.create(index='opal_dataset', body=create_dcat_dataset_index_body)\n",
    "es.indices.create(index='opal_distribution', body=create_dcat_distribution_index_body)'''"
   ]
  },
  {
   "cell_type": "code",
   "execution_count": 94,
   "metadata": {},
   "outputs": [
    {
     "data": {
      "text/plain": [
       "{'acknowledged': True,\n",
       " 'shards_acknowledged': True,\n",
       " 'index': 'opal_distribution'}"
      ]
     },
     "execution_count": 94,
     "metadata": {},
     "output_type": "execute_result"
    }
   ],
   "source": [
    "es.indices.create(index='opal_dataset')\n",
    "es.indices.create(index='opal_distribution')"
   ]
  },
  {
   "cell_type": "code",
   "execution_count": 4,
   "metadata": {},
   "outputs": [
    {
     "data": {
      "text/plain": [
       "<Graph identifier=Nbfcf353eb02845faa062fa2089b8f974 (<class 'rdflib.graph.Graph'>)>"
      ]
     },
     "execution_count": 4,
     "metadata": {},
     "output_type": "execute_result"
    }
   ],
   "source": [
    "g = Graph()\n",
    "g.parse(\"KG/10000.nt\", format=\"n3\")\n",
    "#g.parse(\"/home/demir/Desktop/10000dataset.nt\", format=\"n3\")"
   ]
  },
  {
   "cell_type": "code",
   "execution_count": 5,
   "metadata": {},
   "outputs": [
    {
     "data": {
      "text/plain": [
       "'100001 number of triples'"
      ]
     },
     "execution_count": 5,
     "metadata": {},
     "output_type": "execute_result"
    }
   ],
   "source": [
    "'{0} number of triples'.format(len(g))"
   ]
  },
  {
   "cell_type": "code",
   "execution_count": 99,
   "metadata": {},
   "outputs": [],
   "source": [
    "prefix_uri='http://projekt-opal.de/'\n",
    "#profiles=['dataset/','distribution/']\n",
    "profiles=[prefix_uri+'dataset/',prefix_uri+'distribution/']"
   ]
  },
  {
   "cell_type": "code",
   "execution_count": null,
   "metadata": {},
   "outputs": [],
   "source": []
  },
  {
   "cell_type": "code",
   "execution_count": 8,
   "metadata": {},
   "outputs": [
    {
     "name": "stdout",
     "output_type": "stream",
     "text": [
      "http://projekt-opal.de/distribution/https___europeandataportal_eu_set_distribution_4baee4a9_ab20_491b_9a08_0671e0946b4c http://purl.org/dc/terms/title WMS Schnittstelle\n",
      "http://www.punktyadresowe.pl/cgi-bin/wms/221207?SERVICE=WMS&REQUEST=GetCapabilities&VERSION=1.3.0 http://purl.org/dc/terms/title Usługa przeglądania WMS\n",
      "https://carto.datara.gouv.fr/cgi-bin/mapservwfs? http://purl.org/dc/terms/title n_zone_reg_pprn_20100013_s007\n",
      "http://projekt-opal.de/dataset/https___europeandataportal_eu_set_data_decessi_residenti_nellanno_sesso_anno_nascita_2005 http://purl.org/dc/terms/title Decessi di residenti nell&#039;anno per sesso, anno nascita (2005)\n",
      "https://carto.sigloire.fr/cgi-bin/mapservwfs? http://purl.org/dc/terms/title n_zone_alea_pprn_20140001_s_049\n",
      "http://vmpzp.igeomap.pl/cgi-bin/plany/300303 http://purl.org/dc/terms/title Gniezno - MPZP 112: w sprawie Miejscowego planu zagospodarowania przestrzennego terenów zabudowy mieszkaniowej we  wsi Mnichowo - działka 201/1 (300303_2, iVMPZP) - usługa przeglądania (WMS)\n",
      "http://geodata.rivm.nl/geoserver/erpub/wms/? http://purl.org/dc/terms/title erpub:er_19_hg_nt_water_2014\n",
      "http://projekt-opal.de/distribution/https___europeandataportal_eu_set_distribution_553852b7_9ebc_4c14_9bd4_ad268b8950be http://purl.org/dc/terms/title Rechnungsabschluss Ober-Grafendorf 2009 (Statistik Austria)\n",
      "http://projekt-opal.de/distribution/https___europeandataportal_eu_set_distribution_0ab1b9a4_aa98_464a_bcb8_84938c61eda6 http://purl.org/dc/terms/title view\n",
      "http://deltaresdata.openearth.nl/geoserver/DANK/ows? http://purl.org/dc/terms/title DANK:DANK-019g_Industriewateronttrekkingen_uit_oppervlaktewater\n",
      "https://geoservices.provinciegroningen.nl/server/services/Beleidsplannen/Omgevingsverordening/MapServer/WFSServer http://purl.org/dc/terms/title Beleidsplannen_Omgevingsverordening:GebiedenVerbodFysischeBodemaantasting\n",
      "http://projekt-opal.de/distribution/https___europeandataportal_eu_set_distribution_3f0edda1_5b16_40f8_8a9f_a80f6accaf65 http://purl.org/dc/terms/title ArcGIS Open Dataset\n",
      "http://projekt-opal.de/distribution/https___europeandataportal_eu_set_distribution_2b50ea30_9c1b_464f_a6d2_29bc66c692db http://purl.org/dc/terms/title Begründung des Bebauungsplans als PDF Datei\n",
      "http://projekt-opal.de/distribution/https___europeandataportal_eu_set_distribution_93dd93df_5e6f_478f_8bc9_1122278c4760 http://purl.org/dc/terms/title N_ORIG_RISQ_PPRT_20130003_S_091.TAB (archive)\n",
      "http://projekt-opal.de/dataset/https___europeandataportal_eu_set_data_de2ae007_9fa3_4749_88d1_41038730f247 http://purl.org/dc/terms/title Rechnungsabschluss Herzogsdorf 2014 (Gemeinde)\n",
      "https://carto.sigloire.fr/cgi-bin/mapservwfs? http://purl.org/dc/terms/title n_orig_risq_pprn_19960003_l_053\n",
      "http://mpzp.igeomap.pl/cgi-bin/302406?service=WMS&version=1.3.0&request=GetCapabilities http://purl.org/dc/terms/title Pniewy - MPZP 006: Miejscowy plan zagospodarowania przestrzennego terenu górniczego : złoża kruszywa naturalnego Zajączkowo gm. Pniewy (302406_3, iMPZP) - usługa przeglądania (WMS)\n",
      "https://carto.datara.gouv.fr/cgi-bin/mapservwfs? http://purl.org/dc/terms/title n_prescription_pct_42138_042\n",
      "https://carto.sigloire.fr/cgi-bin/mapservwfs? http://purl.org/dc/terms/title r_precipitations_annuelles_pdl_052\n",
      "https://carto.sigloire.fr/cgi-bin/mapservwfs? http://purl.org/dc/terms/title l_epand_boue_p_049\n"
     ]
    }
   ],
   "source": [
    "dataset_documents=dict()\n",
    "distribution_documents=dict()\n",
    "\n",
    "counter=0\n",
    "for t in g:\n",
    "    s,p,o=str(t[0]),str(t[1]),str(t[2])\n",
    "    \n",
    "    if 'title' in p:\n",
    "        print(s,p,o)\n",
    "        counter +=1\n",
    "        \n",
    "    if counter==20:\n",
    "        break\n",
    "    \"\"\"\n",
    "    \n",
    "    if profiles[0] in s:\n",
    "        # Important\n",
    "        dataset_documents.setdefault(s, {}).setdefault(p,[]).append(o)\n",
    "    elif profiles[1] in s:\n",
    "        # Important\n",
    "        distribution_documents.setdefault(s, {}).setdefault(p,[]).append(o)\n",
    "    else:\n",
    "        continue\n",
    "    \"\"\""
   ]
  },
  {
   "cell_type": "code",
   "execution_count": 101,
   "metadata": {},
   "outputs": [],
   "source": [
    "for dataset_uri,body in dataset_documents.items():\n",
    "    es.create(index='opal_dataset',body=body,id=dataset_uri)\n",
    "    "
   ]
  },
  {
   "cell_type": "code",
   "execution_count": 102,
   "metadata": {},
   "outputs": [],
   "source": [
    "for dataset_uri,body in distribution_documents.items():\n",
    "    es.create(index='opal_distribution',body=body,id=dataset_uri)\n",
    "    "
   ]
  },
  {
   "cell_type": "code",
   "execution_count": 103,
   "metadata": {},
   "outputs": [],
   "source": [
    "def print_search_stats(results):\n",
    "    print(\"=\" * 80)\n",
    "    print(\n",
    "        \"Total %d found in %dms\" % (results[\"hits\"][\"total\"][\"value\"], results[\"took\"])\n",
    "    )\n",
    "    print(\"-\" * 80)"
   ]
  },
  {
   "cell_type": "markdown",
   "metadata": {},
   "source": [
    "### Example Queries "
   ]
  },
  {
   "cell_type": "code",
   "execution_count": 107,
   "metadata": {},
   "outputs": [
    {
     "name": "stdout",
     "output_type": "stream",
     "text": [
      "{'count': 1250, '_shards': {'total': 1, 'successful': 1, 'skipped': 0, 'failed': 0}}\n",
      "{'count': 2204, '_shards': {'total': 1, 'successful': 1, 'skipped': 0, 'failed': 0}}\n"
     ]
    }
   ],
   "source": [
    "# to get the number of documents\n",
    "print(es.count(index='opal_dataset'))\n",
    "\n",
    "print(es.count(index='opal_distribution'))\n",
    "# gets all documents\n",
    "#es.search(index=\"opal_dataset\")"
   ]
  },
  {
   "cell_type": "code",
   "execution_count": 162,
   "metadata": {},
   "outputs": [
    {
     "name": "stdout",
     "output_type": "stream",
     "text": [
      "================================================================================\n",
      "Total 70 found in 2ms\n",
      "--------------------------------------------------------------------------------\n"
     ]
    }
   ],
   "source": [
    "# Search for documents whose description contains framework\n",
    "result=es.search(index='opal_dataset',\n",
    "         body={\n",
    "             \"query\":{\n",
    "                 \"bool\":{\n",
    "                     \"must\":{\"match\":{\"http://purl.org/dc/terms/description\":\"@fr\"}}\n",
    "                 }\n",
    "             }\n",
    "         })\n",
    "\n",
    "print_search_stats(result)"
   ]
  },
  {
   "cell_type": "code",
   "execution_count": 161,
   "metadata": {},
   "outputs": [
    {
     "data": {
      "text/plain": [
       "['http://www.w3.org/ns/dqv#hasQualityMeasurement',\n",
       " 'http://purl.org/dc/terms/spatial',\n",
       " 'http://www.w3.org/ns/dcat#keyword',\n",
       " 'http://www.w3.org/ns/dcat#distribution',\n",
       " 'http://purl.org/dc/terms/description',\n",
       " 'http://www.w3.org/ns/dcat#theme',\n",
       " 'http://purl.org/dc/terms/title',\n",
       " 'http://www.w3.org/1999/02/22-rdf-syntax-ns#type']"
      ]
     },
     "execution_count": 161,
     "metadata": {},
     "output_type": "execute_result"
    }
   ],
   "source": [
    "list(result['hits']['hits'][0]['_source'].keys())"
   ]
  },
  {
   "cell_type": "code",
   "execution_count": 140,
   "metadata": {},
   "outputs": [],
   "source": [
    "hits_docs=result['hits']['hits']"
   ]
  },
  {
   "cell_type": "code",
   "execution_count": 152,
   "metadata": {},
   "outputs": [
    {
     "name": "stdout",
     "output_type": "stream",
     "text": [
      "{'_index': 'opal_distribution', '_type': '_doc', '_id': 'http://projekt-opal.de/distribution/https___europeandataportal_eu_set_distribution_4f55bce7_405c_4ff7_83f7_1744c7bfb0b6', '_version': 1, '_seq_no': 1977, '_primary_term': 1, 'found': True, '_source': {'http://purl.org/dc/terms/description': [''], 'http://www.w3.org/1999/02/22-rdf-syntax-ns#type': ['http://www.w3.org/ns/dcat#Distribution'], 'http://purl.org/dc/terms/title': ['view'], 'http://www.w3.org/ns/dcat#accessURL': ['http://ext-geodata.lansstyrelsen.se/arcgis/services/WMS/LST_wms_miljodata/MapServer/WMSserver?']}}\n"
     ]
    }
   ],
   "source": [
    "for i in hits_docs:\n",
    "    \n",
    "    index=i['_id']\n",
    "    \n",
    "    \n",
    "  #  description=i['_source']['http://purl.org/dc/terms/description']\n",
    " #   print(index)\n",
    "#    print(description)\n",
    "    distribution=i['_source']['http://www.w3.org/ns/dcat#distribution'][0]\n",
    "   \n",
    "    resp = es.get(index='opal_distribution', id=distribution)\n",
    "    print(resp)\n",
    "\n",
    "    break"
   ]
  },
  {
   "cell_type": "code",
   "execution_count": 163,
   "metadata": {},
   "outputs": [
    {
     "name": "stdout",
     "output_type": "stream",
     "text": [
      "================================================================================\n",
      "Total 70 found in 2ms\n",
      "--------------------------------------------------------------------------------\n"
     ]
    }
   ],
   "source": [
    "# Search for documents whose description contains framework\n",
    "result=es.search(index='opal_dataset',\n",
    "         body={\n",
    "             \"query\":{\n",
    "                 \"bool\":{\n",
    "                     \"must\":{\"match\":{\"http://purl.org/dc/terms/description\":\" @fr\"}}\n",
    "                 }\n",
    "             }\n",
    "         })\n",
    "\n",
    "print_search_stats(result)"
   ]
  },
  {
   "cell_type": "code",
   "execution_count": null,
   "metadata": {},
   "outputs": [],
   "source": []
  }
 ],
 "metadata": {
  "kernelspec": {
   "display_name": "elastic",
   "language": "python",
   "name": "elastic"
  },
  "language_info": {
   "codemirror_mode": {
    "name": "ipython",
    "version": 3
   },
   "file_extension": ".py",
   "mimetype": "text/x-python",
   "name": "python",
   "nbconvert_exporter": "python",
   "pygments_lexer": "ipython3",
   "version": "3.7.3"
  }
 },
 "nbformat": 4,
 "nbformat_minor": 2
}
