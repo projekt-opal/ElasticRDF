{
 "cells": [
  {
   "cell_type": "code",
   "execution_count": 1,
   "metadata": {
    "pycharm": {
     "is_executing": false
    }
   },
   "outputs": [],
   "source": [
    "from elasticsearch import Elasticsearch \n",
    "import util as ut\n",
    "from elasticsearch import helpers\n",
    "from rdflib import Graph\n",
    "import collections"
   ]
  },
  {
   "cell_type": "code",
   "execution_count": 2,
   "metadata": {},
   "outputs": [],
   "source": [
    "# Connect to the elastic cluster\n",
    "es=Elasticsearch([{'host':'localhost','port':9200}])"
   ]
  },
  {
   "cell_type": "code",
   "execution_count": 4,
   "metadata": {},
   "outputs": [],
   "source": [
    "# get all indexes\n",
    "#es.indices.get_alias(\"*\")"
   ]
  },
  {
   "cell_type": "code",
   "execution_count": 65,
   "metadata": {},
   "outputs": [
    {
     "data": {
      "text/plain": [
       "{'acknowledged': True}"
      ]
     },
     "execution_count": 65,
     "metadata": {},
     "output_type": "execute_result"
    }
   ],
   "source": [
    "#if es.indices.exists(index='rdf'):\n",
    "#es.indices.delete(index='opal_distribution')\n",
    "#es.indices.delete(index='opal_dataset')\n",
    "#es.indices.delete(index='opal_measurements')"
   ]
  },
  {
   "cell_type": "code",
   "execution_count": 66,
   "metadata": {},
   "outputs": [
    {
     "data": {
      "text/plain": [
       "{'acknowledged': True,\n",
       " 'shards_acknowledged': True,\n",
       " 'index': 'opal_measurements'}"
      ]
     },
     "execution_count": 66,
     "metadata": {},
     "output_type": "execute_result"
    }
   ],
   "source": [
    "es.indices.create(index='opal_dataset')\n",
    "es.indices.create(index='opal_distribution')\n",
    "es.indices.create(index='opal_measurements')"
   ]
  },
  {
   "cell_type": "code",
   "execution_count": 67,
   "metadata": {},
   "outputs": [
    {
     "data": {
      "text/plain": [
       "<Graph identifier=Nd9601ae976f84dbdb31cc9c33657d37f (<class 'rdflib.graph.Graph'>)>"
      ]
     },
     "execution_count": 67,
     "metadata": {},
     "output_type": "execute_result"
    }
   ],
   "source": [
    "g = Graph()\n",
    "g.parse(\"KG/10000.nt\", format=\"n3\")\n",
    "#g.parse(\"KG/10.nt\", format=\"n3\")"
   ]
  },
  {
   "cell_type": "code",
   "execution_count": 68,
   "metadata": {},
   "outputs": [
    {
     "data": {
      "text/plain": [
       "'100001 number of triples'"
      ]
     },
     "execution_count": 68,
     "metadata": {},
     "output_type": "execute_result"
    }
   ],
   "source": [
    "'{0} number of triples'.format(len(g))"
   ]
  },
  {
   "cell_type": "code",
   "execution_count": 69,
   "metadata": {},
   "outputs": [],
   "source": [
    "prefix_uri='http://projekt-opal.de/'\n",
    "profiles=[prefix_uri+'dataset/',prefix_uri+'distribution/',prefix_uri+'measurement']"
   ]
  },
  {
   "cell_type": "code",
   "execution_count": 70,
   "metadata": {},
   "outputs": [],
   "source": [
    "dataset_documents=dict()\n",
    "distribution_documents=dict()\n",
    "measurement_documents=dict()\n",
    "\n",
    "for t in g:\n",
    "    s,p,o=str(t[0]),str(t[1]),str(t[2])\n",
    "    if profiles[0] in s:\n",
    "        # Important\n",
    "        dataset_documents.setdefault(s, {}).setdefault(p,[]).append(o)\n",
    "    elif profiles[1] in s:\n",
    "        # Important\n",
    "        distribution_documents.setdefault(s, {}).setdefault(p,[]).append(o)\n",
    "    elif profiles[2] in s:\n",
    "        measurement_documents.setdefault(s, {}).setdefault(p,[]).append(o)\n",
    "        "
   ]
  },
  {
   "cell_type": "code",
   "execution_count": 73,
   "metadata": {},
   "outputs": [],
   "source": [
    "def gendata(index,X):\n",
    "    for dataset_uri,body in X.items():\n",
    "        yield {\n",
    "            \"_index\": index,\n",
    "            \"_id\":dataset_uri,\n",
    "            \"_type\": \"document\",\n",
    "            \"_source\": body\n",
    "        }"
   ]
  },
  {
   "cell_type": "code",
   "execution_count": 74,
   "metadata": {},
   "outputs": [
    {
     "data": {
      "text/plain": [
       "(1250, [])"
      ]
     },
     "execution_count": 74,
     "metadata": {},
     "output_type": "execute_result"
    }
   ],
   "source": [
    "helpers.bulk(es, gendata('opal_dataset',dataset_documents))\n",
    "\n",
    "helpers.bulk(es, gendata('opal_distribution',distribution_documents))\n",
    "\n",
    "helpers.bulk(es, gendata('opal_measurements',measurement_documents))"
   ]
  },
  {
   "cell_type": "markdown",
   "metadata": {},
   "source": [
    "### Indexing completed\n",
    "\n"
   ]
  },
  {
   "cell_type": "code",
   "execution_count": 88,
   "metadata": {},
   "outputs": [
    {
     "name": "stdout",
     "output_type": "stream",
     "text": [
      "{'count': 1250, '_shards': {'total': 1, 'successful': 1, 'skipped': 0, 'failed': 0}}\n",
      "{'count': 2204, '_shards': {'total': 1, 'successful': 1, 'skipped': 0, 'failed': 0}}\n",
      "{'count': 6268, '_shards': {'total': 1, 'successful': 1, 'skipped': 0, 'failed': 0}}\n"
     ]
    }
   ],
   "source": [
    "# to get the number of documents\n",
    "print(es.count(index='opal_dataset'))\n",
    "\n",
    "print(es.count(index='opal_distribution'))\n",
    "\n",
    "print(es.count(index='opal_measurements'))\n"
   ]
  },
  {
   "cell_type": "code",
   "execution_count": 86,
   "metadata": {},
   "outputs": [],
   "source": [
    "res=es.get(index=\"opal_dataset\", id='http://projekt-opal.de/dataset/https___europeandataportal_eu_set_data_dea0902b_a26f_4404_945f_9e8bd7def6c6_1')"
   ]
  },
  {
   "cell_type": "code",
   "execution_count": 103,
   "metadata": {},
   "outputs": [],
   "source": [
    "def print_search_stats(results):\n",
    "    print(\"=\" * 80)\n",
    "    print(\n",
    "        \"Total %d found in %dms\" % (results[\"hits\"][\"total\"][\"value\"], results[\"took\"])\n",
    "    )\n",
    "    print(\"-\" * 80)"
   ]
  },
  {
   "cell_type": "markdown",
   "metadata": {},
   "source": [
    "### Example Queries "
   ]
  },
  {
   "cell_type": "code",
   "execution_count": 49,
   "metadata": {},
   "outputs": [
    {
     "name": "stdout",
     "output_type": "stream",
     "text": [
      "{'count': 1250, '_shards': {'total': 1, 'successful': 1, 'skipped': 0, 'failed': 0}}\n",
      "{'count': 2204, '_shards': {'total': 1, 'successful': 1, 'skipped': 0, 'failed': 0}}\n",
      "{'count': 6268, '_shards': {'total': 1, 'successful': 1, 'skipped': 0, 'failed': 0}}\n"
     ]
    }
   ],
   "source": []
  },
  {
   "cell_type": "code",
   "execution_count": 17,
   "metadata": {},
   "outputs": [],
   "source": [
    "res = es.get(index=\"opal_dataset\", id='http://projekt-opal.de/dataset/https___europeandataportal_eu_set_data_ddt05_protection_du_patrimoine_architectural_et_urbain_generatrice_de_servitudes_ac4_des_hautes_alpes')"
   ]
  },
  {
   "cell_type": "code",
   "execution_count": 22,
   "metadata": {},
   "outputs": [
    {
     "data": {
      "text/plain": [
       "{'http://purl.org/dc/terms/publisher': ['f31e276dd8a16488892558a67a639adcfb15044',\n",
       "  'f31e276dd8a16488892558a67a639adcfb15043'],\n",
       " 'http://www.w3.org/ns/dqv#hasQualityMeasurement': ['http://projekt-opal.de/measurement2071402',\n",
       "  'http://projekt-opal.de/measurement2071399',\n",
       "  'http://projekt-opal.de/measurement2071403',\n",
       "  'http://projekt-opal.de/measurement2071404',\n",
       "  'http://projekt-opal.de/measurement2071400',\n",
       "  'http://projekt-opal.de/measurement2071401',\n",
       "  'http://projekt-opal.de/measurement2071405'],\n",
       " 'http://www.w3.org/1999/02/22-rdf-syntax-ns#type': ['http://www.w3.org/ns/dcat#Dataset'],\n",
       " 'http://www.w3.org/ns/dcat#distribution': ['http://projekt-opal.de/distribution/https___europeandataportal_eu_set_distribution_0e362a95_fb1f_4f21_8b10_d46ef5ae9503',\n",
       "  'http://projekt-opal.de/distribution/https___europeandataportal_eu_set_distribution_19d1eb39_7aa3_42c2_8068_a684a2fe99bc',\n",
       "  'http://projekt-opal.de/distribution/https___europeandataportal_eu_set_distribution_c65430f6_160d_456c_9f59_5493a2920d77'],\n",
       " 'http://xmlns.com/foaf/0.1/page': ['https://www.data.gouv.fr/fr/datasets/ddt05-protection-du-patrimoine-architectural-et-urbain-generatrice-de-servitudes-ac4-des-hautes-alpes/'],\n",
       " 'http://purl.org/dc/terms/accrualPeriodicity': ['http://publications.europa.eu/resource/authority/frequency/UNKNOWN'],\n",
       " 'http://purl.org/dc/terms/title': ['DDT05 - Protection du patrimoine architectural et urbain génératrice de servitudes AC4 des Hautes-Alpes'],\n",
       " 'http://www.w3.org/ns/dcat#keyword': ['passerelle-inspire',\n",
       "  'planning-cadastre',\n",
       "  'donnees-ouvertes'],\n",
       " 'http://purl.org/dc/terms/description': ['Le générateur d&#x27;une servitude d&#x27;utilité publique est une entité géographique dont la nature ou la fonction induit, sous l&#x27;effet d&#x27;une réglementation, des contraintes sur les modalités d&#x27;occupation du sol des terrains environnants.La disparition ou la destruction sur le terrain du générateur n&#x27;a pas pour conséquence de supprimer la ou les servitudes qui lui étaient associées. Seul un nouvel acte d&#x27;annulation ou d&#x27;abrogation pris par l&#x27;autorité compétente peut légalement faire disparaître les effets de la ou des servitudes en question.\\n\\n__Origine__\\n\\nVariable selon régions. En général, carte 1:25.000\\n\\n\\n__Organisations partenaires__\\n\\nDDT Hautes-Alpes\\n\\n__Liens annexes__\\n\\n * [Vue XML des métadonnées](http://ogc.geo-ide.developpement-durable.gouv.fr/csw/all-dataset?REQUEST&#x3D;GetRecordById&amp;SERVICE&#x3D;CSW&amp;VERSION&#x3D;2.0.2&amp;RESULTTYPE&#x3D;results&amp;elementSetName&#x3D;full&amp;TYPENAMES&#x3D;gmd:MD_Metadata&amp;OUTPUTSCHEMA&#x3D;http://www.isotc211.org/2005/gmd&amp;ID&#x3D;fr-120066022-jdd-e4e65250-848e-48dc-a68c-0f2477926a57)\\n * [Standard de données COVADIS : Réserve naturelle](http://geostandards.developpement-durable.gouv.fr/afficherPageStandard.do?jeu&#x3D;N_RES_NATURELLE_ZINF_S)\\n * [URL de base des services wms/wfs sur internet](http://ogc.geo-ide.developpement-durable.gouv.fr/wxs?map&#x3D;/opt/data/carto/geoide-catalogue/1.4/org_37976/97a4b6e9-46ba-4154-a94b-2c93adc946bf.internet.map)\\n\\n➞ [Consulter cette fiche sur geo.data.gouv.fr](https://geo.data.gouv.fr/fr/datasets/7eff3aea7b27618b429cf0b48adfe8c875fbe348)'],\n",
       " 'http://purl.org/dc/terms/issued': ['2017-02-22T16:50:30.996000']}"
      ]
     },
     "execution_count": 22,
     "metadata": {},
     "output_type": "execute_result"
    }
   ],
   "source": [
    "res['_source']"
   ]
  },
  {
   "cell_type": "code",
   "execution_count": null,
   "metadata": {},
   "outputs": [],
   "source": []
  },
  {
   "cell_type": "code",
   "execution_count": 162,
   "metadata": {},
   "outputs": [
    {
     "name": "stdout",
     "output_type": "stream",
     "text": [
      "================================================================================\n",
      "Total 70 found in 2ms\n",
      "--------------------------------------------------------------------------------\n"
     ]
    }
   ],
   "source": [
    "# Search for documents whose description contains framework\n",
    "result=es.search(index='opal_dataset',\n",
    "         body={\n",
    "             \"query\":{\n",
    "                 \"bool\":{\n",
    "                     \"must\":{\"match\":{\"http://purl.org/dc/terms/description\":\"@fr\"}}\n",
    "                 }\n",
    "             }\n",
    "         })\n",
    "\n",
    "print_search_stats(result)"
   ]
  },
  {
   "cell_type": "code",
   "execution_count": 161,
   "metadata": {},
   "outputs": [
    {
     "data": {
      "text/plain": [
       "['http://www.w3.org/ns/dqv#hasQualityMeasurement',\n",
       " 'http://purl.org/dc/terms/spatial',\n",
       " 'http://www.w3.org/ns/dcat#keyword',\n",
       " 'http://www.w3.org/ns/dcat#distribution',\n",
       " 'http://purl.org/dc/terms/description',\n",
       " 'http://www.w3.org/ns/dcat#theme',\n",
       " 'http://purl.org/dc/terms/title',\n",
       " 'http://www.w3.org/1999/02/22-rdf-syntax-ns#type']"
      ]
     },
     "execution_count": 161,
     "metadata": {},
     "output_type": "execute_result"
    }
   ],
   "source": [
    "list(result['hits']['hits'][0]['_source'].keys())"
   ]
  },
  {
   "cell_type": "code",
   "execution_count": 140,
   "metadata": {},
   "outputs": [],
   "source": [
    "hits_docs=result['hits']['hits']"
   ]
  },
  {
   "cell_type": "code",
   "execution_count": 152,
   "metadata": {},
   "outputs": [
    {
     "name": "stdout",
     "output_type": "stream",
     "text": [
      "{'_index': 'opal_distribution', '_type': '_doc', '_id': 'http://projekt-opal.de/distribution/https___europeandataportal_eu_set_distribution_4f55bce7_405c_4ff7_83f7_1744c7bfb0b6', '_version': 1, '_seq_no': 1977, '_primary_term': 1, 'found': True, '_source': {'http://purl.org/dc/terms/description': [''], 'http://www.w3.org/1999/02/22-rdf-syntax-ns#type': ['http://www.w3.org/ns/dcat#Distribution'], 'http://purl.org/dc/terms/title': ['view'], 'http://www.w3.org/ns/dcat#accessURL': ['http://ext-geodata.lansstyrelsen.se/arcgis/services/WMS/LST_wms_miljodata/MapServer/WMSserver?']}}\n"
     ]
    }
   ],
   "source": [
    "for i in hits_docs:\n",
    "    \n",
    "    index=i['_id']\n",
    "    \n",
    "    \n",
    "  #  description=i['_source']['http://purl.org/dc/terms/description']\n",
    " #   print(index)\n",
    "#    print(description)\n",
    "    distribution=i['_source']['http://www.w3.org/ns/dcat#distribution'][0]\n",
    "   \n",
    "    resp = es.get(index='opal_distribution', id=distribution)\n",
    "    print(resp)\n",
    "\n",
    "    break"
   ]
  },
  {
   "cell_type": "code",
   "execution_count": 163,
   "metadata": {},
   "outputs": [
    {
     "name": "stdout",
     "output_type": "stream",
     "text": [
      "================================================================================\n",
      "Total 70 found in 2ms\n",
      "--------------------------------------------------------------------------------\n"
     ]
    }
   ],
   "source": [
    "# Search for documents whose description contains framework\n",
    "result=es.search(index='opal_dataset',\n",
    "         body={\n",
    "             \"query\":{\n",
    "                 \"bool\":{\n",
    "                     \"must\":{\"match\":{\"http://purl.org/dc/terms/description\":\" @fr\"}}\n",
    "                 }\n",
    "             }\n",
    "         })\n",
    "\n",
    "print_search_stats(result)"
   ]
  },
  {
   "cell_type": "code",
   "execution_count": 56,
   "metadata": {},
   "outputs": [],
   "source": [
    "\n",
    "from elasticsearch import Elasticsearch,helpers"
   ]
  },
  {
   "cell_type": "code",
   "execution_count": null,
   "metadata": {},
   "outputs": [],
   "source": []
  },
  {
   "cell_type": "code",
   "execution_count": 57,
   "metadata": {},
   "outputs": [
    {
     "data": {
      "text/plain": [
       "(3, [])"
      ]
     },
     "execution_count": 57,
     "metadata": {},
     "output_type": "execute_result"
    }
   ],
   "source": [
    "def gendata():\n",
    "    mywords = ['foo', 'bar', 'baz']\n",
    "    for word in mywords:\n",
    "        yield {\n",
    "            \"_index\": \"mywords\",\n",
    "            \"_type\": \"document\",\n",
    "            \"doc\": {\"word\": word},\n",
    "        }\n",
    "\n",
    "helpers.bulk(es, gendata())"
   ]
  },
  {
   "cell_type": "code",
   "execution_count": 93,
   "metadata": {},
   "outputs": [
    {
     "data": {
      "text/plain": [
       "{'count': 3,\n",
       " '_shards': {'total': 1, 'successful': 1, 'skipped': 0, 'failed': 0}}"
      ]
     },
     "execution_count": 93,
     "metadata": {},
     "output_type": "execute_result"
    }
   ],
   "source": [
    "es.count(index='mywords')"
   ]
  },
  {
   "cell_type": "code",
   "execution_count": 95,
   "metadata": {},
   "outputs": [
    {
     "data": {
      "text/plain": [
       "{'_index': 'bank',\n",
       " '_type': '_doc',\n",
       " '_id': '1',\n",
       " '_version': 1,\n",
       " '_seq_no': 0,\n",
       " '_primary_term': 1,\n",
       " 'found': True,\n",
       " '_source': {'account_number': 1,\n",
       "  'balance': 39225,\n",
       "  'firstname': 'Amber',\n",
       "  'lastname': 'Duke',\n",
       "  'age': 32,\n",
       "  'gender': 'M',\n",
       "  'address': '880 Holmes Lane',\n",
       "  'employer': 'Pyrami',\n",
       "  'email': 'amberduke@pyrami.com',\n",
       "  'city': 'Brogan',\n",
       "  'state': 'IL'}}"
      ]
     },
     "execution_count": 95,
     "metadata": {},
     "output_type": "execute_result"
    }
   ],
   "source": [
    "es.get(index=\"bank\", id=1)"
   ]
  },
  {
   "cell_type": "code",
   "execution_count": 115,
   "metadata": {},
   "outputs": [
    {
     "data": {
      "text/plain": [
       "{'took': 35,\n",
       " 'timed_out': False,\n",
       " '_shards': {'total': 1, 'successful': 1, 'skipped': 0, 'failed': 0},\n",
       " 'hits': {'total': {'value': 1000, 'relation': 'eq'},\n",
       "  'max_score': None,\n",
       "  'hits': []},\n",
       " 'aggregations': {'group_by_state': {'doc_count_error_upper_bound': 0,\n",
       "   'sum_other_doc_count': 743,\n",
       "   'buckets': [{'key': 'TX', 'doc_count': 30},\n",
       "    {'key': 'MD', 'doc_count': 28},\n",
       "    {'key': 'ID', 'doc_count': 27},\n",
       "    {'key': 'AL', 'doc_count': 25},\n",
       "    {'key': 'ME', 'doc_count': 25},\n",
       "    {'key': 'TN', 'doc_count': 25},\n",
       "    {'key': 'WY', 'doc_count': 25},\n",
       "    {'key': 'DC', 'doc_count': 24},\n",
       "    {'key': 'MA', 'doc_count': 24},\n",
       "    {'key': 'ND', 'doc_count': 24}]}}}"
      ]
     },
     "execution_count": 115,
     "metadata": {},
     "output_type": "execute_result"
    }
   ],
   "source": [
    "#To start with, this example groups all the accounts by state, and then returns the top 10 (default) states sorted by count descending (also default):\n",
    "    \n",
    "es.search(index='bank',\n",
    "         body={\n",
    "  \"size\": 0,\n",
    "  \"aggs\": {\n",
    "    \"group_by_state\": {\n",
    "      \"terms\": {\n",
    "        \"field\": \"state.keyword\"\n",
    "      }\n",
    "    }\n",
    "  }\n",
    "}\n",
    ")\n"
   ]
  },
  {
   "cell_type": "code",
   "execution_count": null,
   "metadata": {},
   "outputs": [],
   "source": []
  }
 ],
 "metadata": {
  "kernelspec": {
   "display_name": "elastic",
   "language": "python",
   "name": "elastic"
  },
  "language_info": {
   "codemirror_mode": {
    "name": "ipython",
    "version": 3
   },
   "file_extension": ".py",
   "mimetype": "text/x-python",
   "name": "python",
   "nbconvert_exporter": "python",
   "pygments_lexer": "ipython3",
   "version": "3.7.3"
  }
 },
 "nbformat": 4,
 "nbformat_minor": 2
}
